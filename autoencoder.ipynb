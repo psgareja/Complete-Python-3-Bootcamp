{
  "nbformat": 4,
  "nbformat_minor": 0,
  "metadata": {
    "colab": {
      "name": "autoencoder.ipynb",
      "version": "0.3.2",
      "provenance": [],
      "include_colab_link": true
    },
    "kernelspec": {
      "name": "python3",
      "display_name": "Python 3"
    },
    "accelerator": "GPU"
  },
  "cells": [
    {
      "cell_type": "markdown",
      "metadata": {
        "id": "view-in-github",
        "colab_type": "text"
      },
      "source": [
        "<a href=\"https://colab.research.google.com/github/psgareja/Complete-Python-3-Bootcamp/blob/master/autoencoder.ipynb\" target=\"_parent\"><img src=\"https://colab.research.google.com/assets/colab-badge.svg\" alt=\"Open In Colab\"/></a>"
      ]
    },
    {
      "metadata": {
        "id": "xo4mrc4i2N0E",
        "colab_type": "code",
        "colab": {}
      },
      "cell_type": "code",
      "source": [
        "import numpy as np\n",
        "import matplotlib.pyplot as plt\n",
        "import tensorflow as tf\n",
        "import pandas as pd"
      ],
      "execution_count": 0,
      "outputs": []
    },
    {
      "metadata": {
        "id": "q60mf1mv2bIK",
        "colab_type": "code",
        "colab": {}
      },
      "cell_type": "code",
      "source": [
        "from sklearn.datasets import make_blobs"
      ],
      "execution_count": 0,
      "outputs": []
    },
    {
      "metadata": {
        "id": "xlt4rSV22kHo",
        "colab_type": "code",
        "colab": {}
      },
      "cell_type": "code",
      "source": [
        "data=make_blobs(n_samples=100, n_features=3, centers=2, cluster_std=1.0, center_box=(-10.0, 10.0), shuffle=True, random_state=101)"
      ],
      "execution_count": 0,
      "outputs": []
    },
    {
      "metadata": {
        "id": "mlwNDYxt23u-",
        "colab_type": "code",
        "colab": {
          "base_uri": "https://localhost:8080/",
          "height": 1802
        },
        "outputId": "9afe39e6-d8fb-4dc4-d3e5-858bfc35002a"
      },
      "cell_type": "code",
      "source": [
        "data"
      ],
      "execution_count": 4,
      "outputs": [
        {
          "output_type": "execute_result",
          "data": {
            "text/plain": [
              "(array([[  0.99429187,   0.87511711,  -9.99909683],\n",
              "        [  0.65761885,   0.91624771, -10.18458517],\n",
              "        [ -6.48804352,   3.29034852,   6.73159871],\n",
              "        [  0.5815206 ,   2.06249948,  -9.07157495],\n",
              "        [ -7.42442678,   5.30835517,   6.86341624],\n",
              "        [  2.26790487,   0.40816482, -10.17230518],\n",
              "        [  1.62073713,  -0.05416228,  -9.92461083],\n",
              "        [  2.41199108,   1.03683306,  -9.20017913],\n",
              "        [ -7.62441747,   5.87096075,   5.41069708],\n",
              "        [ -7.34160752,   3.671108  ,   7.36634568],\n",
              "        [ -7.56358517,   3.5736335 ,   5.34284552],\n",
              "        [  2.22972735,   1.6514787 ,  -7.43386319],\n",
              "        [ -0.75249891,   2.31574949,  -9.26873428],\n",
              "        [  0.54946324,   0.5581557 ,  -7.88852506],\n",
              "        [ -0.4308995 ,   0.48011452,  -8.47545896],\n",
              "        [ -1.19436032,   2.54705473,  -8.90232874],\n",
              "        [ -0.06318407,   2.4416449 , -11.40312057],\n",
              "        [ -6.70999871,   3.8246846 ,   7.34365184],\n",
              "        [  1.32054601,   2.60559237, -10.47729501],\n",
              "        [  0.15391601,   2.19349145,  -9.8137736 ],\n",
              "        [  0.32833903,   2.43933589,  -9.58711337],\n",
              "        [ -7.01543966,   4.3914134 ,   9.46294692],\n",
              "        [  0.16543782,   1.89916047,  -9.03802666],\n",
              "        [  0.7185004 ,   1.58025637,  -9.24601361],\n",
              "        [ -7.65700277,   1.13777271,   7.33896645],\n",
              "        [ -7.12044288,   4.64758461,   5.7025879 ],\n",
              "        [  1.93475242,   0.29764177, -10.81589403],\n",
              "        [ -6.4220804 ,   2.9760733 ,   5.9578275 ],\n",
              "        [ -7.39003004,   2.67596248,   5.15308172],\n",
              "        [ -7.03832316,   4.56563667,   6.9080243 ],\n",
              "        [ -4.07557669,   3.15827975,   7.17466421],\n",
              "        [ -0.61543385,   1.89810338,  -9.54728879],\n",
              "        [  0.9339379 ,  -0.60481651,  -8.69039341],\n",
              "        [ -4.81755245,   4.40108636,   6.83159809],\n",
              "        [  0.57115017,   2.27751662, -10.99144692],\n",
              "        [ -1.0016875 ,   1.45481168,  -9.84157087],\n",
              "        [  1.7353108 ,   2.05515725, -10.33561537],\n",
              "        [ -8.68467997,   3.42602942,   7.74064767],\n",
              "        [  0.9790905 ,   1.09403369, -10.27859245],\n",
              "        [ -5.79759684,   3.99975626,   5.28641819],\n",
              "        [  2.44569994,   1.61087572,  -7.12752821],\n",
              "        [  1.81046805,   2.37480989, -11.57172776],\n",
              "        [ -6.24790729,   4.71286377,   7.00772091],\n",
              "        [ -8.20249087,   4.507669  ,   5.01040047],\n",
              "        [  1.00918185,   2.44847681,  -9.46167595],\n",
              "        [ -6.78887759,   3.65986315,   6.69035824],\n",
              "        [  0.51876688,   3.39210906,  -6.82454819],\n",
              "        [ -8.40882774,   4.56913524,   5.60134675],\n",
              "        [ -0.44335605,   1.52382915, -10.23516698],\n",
              "        [ -5.24785153,   4.49966814,   8.03764923],\n",
              "        [ -6.13431395,   4.96544332,   6.2300389 ],\n",
              "        [ -1.37811338,   0.25423232,  -9.56535619],\n",
              "        [  0.29639341,   2.06317757,  -7.27566903],\n",
              "        [ -6.17610612,   3.075033  ,   5.27964757],\n",
              "        [ -0.53891248,   2.13413934, -10.65359751],\n",
              "        [ -5.43954882,   4.60333595,   7.00880287],\n",
              "        [  0.85678605,   0.8243512 ,  -9.24182016],\n",
              "        [ -0.65480344,   3.64490698, -10.40190804],\n",
              "        [ -6.05573415,   2.7773348 ,   7.52484115],\n",
              "        [ -0.80584461,   2.02382964,  -9.04448516],\n",
              "        [ -0.2822863 ,   0.6580264 ,  -9.77693397],\n",
              "        [ -5.66674102,   3.16763048,   5.12826615],\n",
              "        [  1.35278283,   0.48747748,  -7.56765133],\n",
              "        [ -6.47593889,   4.94635225,   5.58024423],\n",
              "        [ -6.86800262,   3.73468111,   7.56696814],\n",
              "        [ -6.65886532,   4.40410604,   5.26881157],\n",
              "        [ -7.14994986,   4.91456692,   7.87968128],\n",
              "        [  1.05699629,   0.55026047,  -9.12488396],\n",
              "        [  0.51509708,   0.68050659, -10.81343557],\n",
              "        [ -5.53765102,   2.62442136,   6.67758229],\n",
              "        [ -5.69865986,   5.29135203,   7.60759509],\n",
              "        [  1.16100188,   2.38907142,  -9.81875417],\n",
              "        [  0.47499933,   0.9339037 ,  -8.87174606],\n",
              "        [ -9.30656147,   5.22810174,   6.85594634],\n",
              "        [  1.1112886 ,   0.704398  ,  -8.84366818],\n",
              "        [ -6.16198043,   4.51338238,   3.94147281],\n",
              "        [ -7.80518114,   2.90711167,   7.43205869],\n",
              "        [  0.0760756 ,   0.83523148,  -9.19351984],\n",
              "        [  0.52875302,   1.74119648,  -8.75603028],\n",
              "        [ -5.95090888,   1.65297671,   6.51129114],\n",
              "        [ -5.96070958,   3.99201262,   6.47214495],\n",
              "        [ -5.04581642,   4.99576956,   5.19961789],\n",
              "        [ -7.37241005,   3.45206025,   6.768636  ],\n",
              "        [ -6.78944842,   3.99833476,   7.51229177],\n",
              "        [ -7.55471973,   3.55026388,   5.66470924],\n",
              "        [ -0.66529095,   1.61015124, -10.56716006],\n",
              "        [ -4.54002269,   2.65918125,   5.37145495],\n",
              "        [ -1.3503111 ,   1.74732484,  -9.962986  ],\n",
              "        [  1.01148144,   1.71601719,  -7.73679255],\n",
              "        [ -8.4775757 ,   3.32543613,   5.01187807],\n",
              "        [ -1.29337527,   2.09088685,  -9.40440999],\n",
              "        [ -6.35533268,   3.46502969,   5.25698778],\n",
              "        [ -0.08134593,   1.75689092,  -9.23424015],\n",
              "        [  1.13567847,   1.48631141,  -8.79172846],\n",
              "        [ -6.40192863,   2.93960956,   7.64023642],\n",
              "        [ -6.85482364,   5.79607878,   7.6819934 ],\n",
              "        [ -7.63261577,   3.58015883,   5.73234913],\n",
              "        [ -6.90248768,   2.77693736,   8.39388742],\n",
              "        [ -6.3033601 ,   4.1181198 ,   7.6667101 ],\n",
              "        [ -7.19637228,   3.31445067,   8.4214142 ]]),\n",
              " array([0, 0, 1, 0, 1, 0, 0, 0, 1, 1, 1, 0, 0, 0, 0, 0, 0, 1, 0, 0, 0, 1,\n",
              "        0, 0, 1, 1, 0, 1, 1, 1, 1, 0, 0, 1, 0, 0, 0, 1, 0, 1, 0, 0, 1, 1,\n",
              "        0, 1, 0, 1, 0, 1, 1, 0, 0, 1, 0, 1, 0, 0, 1, 0, 0, 1, 0, 1, 1, 1,\n",
              "        1, 0, 0, 1, 1, 0, 0, 1, 0, 1, 1, 0, 0, 1, 1, 1, 1, 1, 1, 0, 1, 0,\n",
              "        0, 1, 0, 1, 0, 0, 1, 1, 1, 1, 1, 1]))"
            ]
          },
          "metadata": {
            "tags": []
          },
          "execution_count": 4
        }
      ]
    },
    {
      "metadata": {
        "id": "O4lgLxS626_S",
        "colab_type": "code",
        "colab": {}
      },
      "cell_type": "code",
      "source": [
        "from sklearn.preprocessing import MinMaxScaler"
      ],
      "execution_count": 0,
      "outputs": []
    },
    {
      "metadata": {
        "id": "unUTJ0_u3J3Q",
        "colab_type": "code",
        "colab": {}
      },
      "cell_type": "code",
      "source": [
        "scaler=MinMaxScaler()\n",
        "scaled_data=scaler.fit_transform(data[0])"
      ],
      "execution_count": 0,
      "outputs": []
    },
    {
      "metadata": {
        "id": "BO2CfXsI3boh",
        "colab_type": "code",
        "colab": {}
      },
      "cell_type": "code",
      "source": [
        "data_x=scaled_data[:,0]\n",
        "\n",
        "\n",
        "data_y=scaled_data[:,1]\n",
        "\n",
        "\n",
        "data_z=scaled_data[:,2]"
      ],
      "execution_count": 0,
      "outputs": []
    },
    {
      "metadata": {
        "id": "BJGndyGM3qkq",
        "colab_type": "code",
        "colab": {}
      },
      "cell_type": "code",
      "source": [
        "from mpl_toolkits.mplot3d import axes3d"
      ],
      "execution_count": 0,
      "outputs": []
    },
    {
      "metadata": {
        "id": "L0_jr4cJ4LmE",
        "colab_type": "code",
        "colab": {
          "base_uri": "https://localhost:8080/",
          "height": 347
        },
        "outputId": "5fec23fc-4af5-4f89-84b9-4f09563e2eb4"
      },
      "cell_type": "code",
      "source": [
        "fig=plt.figure()\n",
        "ax=fig.add_subplot(111, projection='3d')\n",
        "ax.scatter(data_x,data_y,data_z,c=data[1])"
      ],
      "execution_count": 12,
      "outputs": [
        {
          "output_type": "execute_result",
          "data": {
            "text/plain": [
              "<mpl_toolkits.mplot3d.art3d.Path3DCollection at 0x7f18aa3351d0>"
            ]
          },
          "metadata": {
            "tags": []
          },
          "execution_count": 12
        },
        {
          "output_type": "display_data",
          "data": {
            "image/png": "[encoded data removed]",
            "text/plain": [
              "<Figure size 576x396 with 1 Axes>"
            ]
          },
          "metadata": {
            "tags": []
          }
        }
      ]
    },
    {
      "metadata": {
        "id": "Eqk0ELuQ4jVe",
        "colab_type": "code",
        "colab": {}
      },
      "cell_type": "code",
      "source": [
        "from tensorflow.contrib.layers import fully_connected"
      ],
      "execution_count": 0,
      "outputs": []
    },
    {
      "metadata": {
        "id": "2LyDYfwG5XbF",
        "colab_type": "code",
        "colab": {}
      },
      "cell_type": "code",
      "source": [
        "num_inputs=3\n",
        "num_hidden=2\n",
        "num_outputs=num_inputs"
      ],
      "execution_count": 0,
      "outputs": []
    },
    {
      "metadata": {
        "id": "Qom8UnWG5kZ_",
        "colab_type": "code",
        "colab": {}
      },
      "cell_type": "code",
      "source": [
        "learning_rate=0.01"
      ],
      "execution_count": 0,
      "outputs": []
    },
    {
      "metadata": {
        "id": "1hJmxr3y5oyZ",
        "colab_type": "code",
        "colab": {}
      },
      "cell_type": "code",
      "source": [
        "X=tf.placeholder(tf.float32,shape=[None,num_inputs])"
      ],
      "execution_count": 0,
      "outputs": []
    },
    {
      "metadata": {
        "id": "LIYtVAQb5ynx",
        "colab_type": "code",
        "colab": {}
      },
      "cell_type": "code",
      "source": [
        "hidden=fully_connected(X,num_hidden,activation_fn=None)"
      ],
      "execution_count": 0,
      "outputs": []
    },
    {
      "metadata": {
        "id": "r0jiN0LI6E2Y",
        "colab_type": "code",
        "colab": {}
      },
      "cell_type": "code",
      "source": [
        "outputs=fully_connected(hidden,num_outputs,activation_fn=None)"
      ],
      "execution_count": 0,
      "outputs": []
    },
    {
      "metadata": {
        "id": "QB0guU3V6YeO",
        "colab_type": "code",
        "colab": {}
      },
      "cell_type": "code",
      "source": [
        "loss=tf.reduce_min(tf.square(outputs-X))"
      ],
      "execution_count": 0,
      "outputs": []
    },
    {
      "metadata": {
        "id": "gplh8lGp8UgC",
        "colab_type": "code",
        "colab": {}
      },
      "cell_type": "code",
      "source": [
        "optimizer=tf.train.AdamOptimizer(learning_rate)"
      ],
      "execution_count": 0,
      "outputs": []
    },
    {
      "metadata": {
        "id": "9emvelGv8gYI",
        "colab_type": "code",
        "colab": {}
      },
      "cell_type": "code",
      "source": [
        "train=optimizer.minimize(loss)"
      ],
      "execution_count": 0,
      "outputs": []
    },
    {
      "metadata": {
        "id": "Ohtwz0di8odx",
        "colab_type": "code",
        "colab": {}
      },
      "cell_type": "code",
      "source": [
        "init=tf.global_variables_initializer()"
      ],
      "execution_count": 0,
      "outputs": []
    },
    {
      "metadata": {
        "id": "-UopnW008uYH",
        "colab_type": "code",
        "colab": {}
      },
      "cell_type": "code",
      "source": [
        "num_steps=1000\n",
        "with tf.Session() as sess:\n",
        "  sess.run(init)\n",
        "  for iteration in range(num_steps):\n",
        "    sess.run(train,feed_dict={X:scaled_data})\n",
        "    \n",
        "    \n",
        "  ouputs_2d=hidden.eval(feed_dict={X:scaled_data})"
      ],
      "execution_count": 0,
      "outputs": []
    },
    {
      "metadata": {
        "id": "8AQMDT2K9fWG",
        "colab_type": "code",
        "colab": {
          "base_uri": "https://localhost:8080/",
          "height": 1717
        },
        "outputId": "2a880e10-6ff8-4e75-a268-ce7e2044279b"
      },
      "cell_type": "code",
      "source": [
        "ouputs_2d"
      ],
      "execution_count": 26,
      "outputs": [
        {
          "output_type": "execute_result",
          "data": {
            "text/plain": [
              "array([[ 0.47111583,  0.72879946],\n",
              "       [ 0.44828588,  0.7159855 ],\n",
              "       [-0.01394172, -0.4739431 ],\n",
              "       [ 0.3638862 ,  0.7135314 ],\n",
              "       [-0.21855554, -0.44772667],\n",
              "       [ 0.5755111 ,  0.8037004 ],\n",
              "       [ 0.57693875,  0.72400653],\n",
              "       [ 0.54179186,  0.7982083 ],\n",
              "       [-0.2820327 , -0.3653467 ],\n",
              "       [-0.08567858, -0.54548985],\n",
              "       [-0.10370302, -0.4696497 ],\n",
              "       [ 0.4964551 ,  0.73138505],\n",
              "       [ 0.2700639 ,  0.6415921 ],\n",
              "       [ 0.4847783 ,  0.581851  ],\n",
              "       [ 0.43309796,  0.537136  ],\n",
              "       [ 0.23056489,  0.6044218 ],\n",
              "       [ 0.2842491 ,  0.79753447],\n",
              "       [-0.06290404, -0.49260584],\n",
              "       [ 0.35372457,  0.85863656],\n",
              "       [ 0.32554874,  0.72516483],\n",
              "       [ 0.3178325 ,  0.7385995 ],\n",
              "       [-0.10902104, -0.5871815 ],\n",
              "       [ 0.3537527 ,  0.67478395],\n",
              "       [ 0.40708253,  0.7079679 ],\n",
              "       [ 0.09029912, -0.6896083 ],\n",
              "       [-0.15904185, -0.40337956],\n",
              "       [ 0.5614468 ,  0.80552405],\n",
              "       [ 0.00859521, -0.44783485],\n",
              "       [-0.02687608, -0.49213418],\n",
              "       [-0.14036146, -0.45889026],\n",
              "       [ 0.13140783, -0.33209825],\n",
              "       [ 0.30764815,  0.64412606],\n",
              "       [ 0.5894167 ,  0.59034956],\n",
              "       [-0.0064603 , -0.3073928 ],\n",
              "       [ 0.3342879 ,  0.8145063 ],\n",
              "       [ 0.31837696,  0.6094284 ],\n",
              "       [ 0.41944468,  0.85422873],\n",
              "       [-0.13818885, -0.66947305],\n",
              "       [ 0.45172834,  0.7516685 ],\n",
              "       [-0.03972843, -0.3222788 ],\n",
              "       [ 0.5134165 ,  0.73000985],\n",
              "       [ 0.39103886,  0.93380404],\n",
              "       [-0.10758565, -0.40098518],\n",
              "       [-0.21226707, -0.45324075],\n",
              "       [ 0.35531104,  0.78087056],\n",
              "       [-0.05893546, -0.47511634],\n",
              "       [ 0.27366433,  0.6670443 ],\n",
              "       [-0.22439992, -0.49281594],\n",
              "       [ 0.34115276,  0.67068076],\n",
              "       [-0.02967479, -0.3901134 ],\n",
              "       [-0.12574978, -0.3437625 ],\n",
              "       [ 0.391223  ,  0.5114558 ],\n",
              "       [ 0.35998675,  0.60820377],\n",
              "       [ 0.01007863, -0.39352491],\n",
              "       [ 0.28655517,  0.71355927],\n",
              "       [-0.05486576, -0.34962904],\n",
              "       [ 0.4724223 ,  0.6806892 ],\n",
              "       [ 0.1664787 ,  0.766984  ],\n",
              "       [ 0.05416256, -0.50626296],\n",
              "       [ 0.29090282,  0.6129848 ],\n",
              "       [ 0.419117  ,  0.6180756 ],\n",
              "       [ 0.02995813, -0.34607285],\n",
              "       [ 0.5363553 ,  0.61954653],\n",
              "       [-0.14730202, -0.3377892 ],\n",
              "       [-0.06323261, -0.5186887 ],\n",
              "       [-0.117974  , -0.3622161 ],\n",
              "       [-0.16675036, -0.49592134],\n",
              "       [ 0.5051056 ,  0.67584616],\n",
              "       [ 0.45433924,  0.7243952 ],\n",
              "       [ 0.08869869, -0.437076  ],\n",
              "       [-0.11768956, -0.3627908 ],\n",
              "       [ 0.36583158,  0.8056053 ],\n",
              "       [ 0.44554102,  0.6416361 ],\n",
              "       [-0.31573457, -0.5833818 ],\n",
              "       [ 0.4981603 ,  0.67379344],\n",
              "       [-0.10777637, -0.25894266],\n",
              "       [-0.05233639, -0.6183295 ],\n",
              "       [ 0.42907694,  0.62412626],\n",
              "       [ 0.38760033,  0.679196  ],\n",
              "       [ 0.13911958, -0.50545377],\n",
              "       [-0.04029822, -0.39045426],\n",
              "       [-0.07511557, -0.21691716],\n",
              "       [-0.07456631, -0.52990633],\n",
              "       [-0.07941621, -0.4977462 ],\n",
              "       [-0.09931806, -0.48546082],\n",
              "       [ 0.32020435,  0.6750817 ],\n",
              "       [ 0.13219818, -0.30329037],\n",
              "       [ 0.27611512,  0.6049639 ],\n",
              "       [ 0.422701  ,  0.6634149 ],\n",
              "       [-0.1370667 , -0.5301511 ],\n",
              "       [ 0.25667086,  0.5991338 ],\n",
              "       [-0.02968551, -0.38604888],\n",
              "       [ 0.34978938,  0.6598638 ],\n",
              "       [ 0.44012788,  0.71108794],\n",
              "       [ 0.02353511, -0.528149  ],\n",
              "       [-0.21917497, -0.42291406],\n",
              "       [-0.10543036, -0.4926879 ],\n",
              "       [ 0.01344564, -0.607015  ],\n",
              "       [-0.06088153, -0.46513754],\n",
              "       [-0.04354461, -0.602793  ]], dtype=float32)"
            ]
          },
          "metadata": {
            "tags": []
          },
          "execution_count": 26
        }
      ]
    },
    {
      "metadata": {
        "id": "_dKNBe3r98Vi",
        "colab_type": "code",
        "colab": {
          "base_uri": "https://localhost:8080/",
          "height": 364
        },
        "outputId": "ee27e60e-c304-4bc9-86fe-23c01ade56a3"
      },
      "cell_type": "code",
      "source": [
        "plt.scatter(ouputs_2d[:,0],ouputs_2d[:,1],c=data[1])"
      ],
      "execution_count": 28,
      "outputs": [
        {
          "output_type": "execute_result",
          "data": {
            "text/plain": [
              "<matplotlib.collections.PathCollection at 0x7f189b9cb1d0>"
            ]
          },
          "metadata": {
            "tags": []
          },
          "execution_count": 28
        },
        {
          "output_type": "display_data",
          "data": {
            "image/png": "[encoded data removed]",
            "text/plain": [
              "<Figure size 576x396 with 1 Axes>"
            ]
          },
          "metadata": {
            "tags": []
          }
        }
      ]
    },
    {
      "metadata": {
        "id": "gPnlr1-L-LB-",
        "colab_type": "code",
        "colab": {}
      },
      "cell_type": "code",
      "source": [
        "from google.colab import files"
      ],
      "execution_count": 0,
      "outputs": []
    },
    {
      "metadata": {
        "id": "7K3y3HAl_PNw",
        "colab_type": "code",
        "colab": {
          "resources": {
            "http://localhost:8080/nbextensions/google.colab/files.js": {
              "data": "Ly8gQ29weXJpZ2h0IDIwMTcgR29vZ2xlIExMQwovLwovLyBMaWNlbnNlZCB1bmRlciB0aGUgQXBhY2hlIExpY2Vuc2UsIFZlcnNpb24gMi4wICh0aGUgIkxpY2Vuc2UiKTsKLy8geW91IG1heSBub3QgdXNlIHRoaXMgZmlsZSBleGNlcHQgaW4gY29tcGxpYW5jZSB3aXRoIHRoZSBMaWNlbnNlLgovLyBZb3UgbWF5IG9idGFpbiBhIGNvcHkgb2YgdGhlIExpY2Vuc2UgYXQKLy8KLy8gICAgICBodHRwOi8vd3d3LmFwYWNoZS5vcmcvbGljZW5zZXMvTElDRU5TRS0yLjAKLy8KLy8gVW5sZXNzIHJlcXVpcmVkIGJ5IGFwcGxpY2FibGUgbGF3IG9yIGFncmVlZCB0byBpbiB3cml0aW5nLCBzb2Z0d2FyZQovLyBkaXN0cmlidXRlZCB1bmRlciB0aGUgTGljZW5zZSBpcyBkaXN0cmlidXRlZCBvbiBhbiAiQVMgSVMiIEJBU0lTLAovLyBXSVRIT1VUIFdBUlJBTlRJRVMgT1IgQ09ORElUSU9OUyBPRiBBTlkgS0lORCwgZWl0aGVyIGV4cHJlc3Mgb3IgaW1wbGllZC4KLy8gU2VlIHRoZSBMaWNlbnNlIGZvciB0aGUgc3BlY2lmaWMgbGFuZ3VhZ2UgZ292ZXJuaW5nIHBlcm1pc3Npb25zIGFuZAovLyBsaW1pdGF0aW9ucyB1bmRlciB0aGUgTGljZW5zZS4KCi8qKgogKiBAZmlsZW92ZXJ2aWV3IEhlbHBlcnMgZm9yIGdvb2dsZS5jb2xhYiBQeXRob24gbW9kdWxlLgogKi8KKGZ1bmN0aW9uKHNjb3BlKSB7CmZ1bmN0aW9uIHNwYW4odGV4dCwgc3R5bGVBdHRyaWJ1dGVzID0ge30pIHsKICBjb25zdCBlbGVtZW50ID0gZG9jdW1lbnQuY3JlYXRlRWxlbWVudCgnc3BhbicpOwogIGVsZW1lbnQudGV4dENvbnRlbnQgPSB0ZXh0OwogIGZvciAoY29uc3Qga2V5IG9mIE9iamVjdC5rZXlzKHN0eWxlQXR0cmlidXRlcykpIHsKICAgIGVsZW1lbnQuc3R5bGVba2V5XSA9IHN0eWxlQXR0cmlidXRlc1trZXldOwogIH0KICByZXR1cm4gZWxlbWVudDsKfQoKLy8gTWF4IG51bWJlciBvZiBieXRlcyB3aGljaCB3aWxsIGJlIHVwbG9hZGVkIGF0IGEgdGltZS4KY29uc3QgTUFYX1BBWUxPQURfU0laRSA9IDEwMCAqIDEwMjQ7Ci8vIE1heCBhbW91bnQgb2YgdGltZSB0byBibG9jayB3YWl0aW5nIGZvciB0aGUgdXNlci4KY29uc3QgRklMRV9DSEFOR0VfVElNRU9VVF9NUyA9IDMwICogMTAwMDsKCmZ1bmN0aW9uIF91cGxvYWRGaWxlcyhpbnB1dElkLCBvdXRwdXRJZCkgewogIGNvbnN0IHN0ZXBzID0gdXBsb2FkRmlsZXNTdGVwKGlucHV0SWQsIG91dHB1dElkKTsKICBjb25zdCBvdXRwdXRFbGVtZW50ID0gZG9jdW1lbnQuZ2V0RWxlbWVudEJ5SWQob3V0cHV0SWQpOwogIC8vIENhY2hlIHN0ZXBzIG9uIHRoZSBvdXRwdXRFbGVtZW50IHRvIG1ha2UgaXQgYXZhaWxhYmxlIGZvciB0aGUgbmV4dCBjYWxsCiAgLy8gdG8gdXBsb2FkRmlsZXNDb250aW51ZSBmcm9tIFB5dGhvbi4KICBvdXRwdXRFbGVtZW50LnN0ZXBzID0gc3RlcHM7CgogIHJldHVybiBfdXBsb2FkRmlsZXNDb250aW51ZShvdXRwdXRJZCk7Cn0KCi8vIFRoaXMgaXMgcm91Z2hseSBhbiBhc3luYyBnZW5lcmF0b3IgKG5vdCBzdXBwb3J0ZWQgaW4gdGhlIGJyb3dzZXIgeWV0KSwKLy8gd2hlcmUgdGhlcmUgYXJlIG11bHRpcGxlIGFzeW5jaHJvbm91cyBzdGVwcyBhbmQgdGhlIFB5dGhvbiBzaWRlIGlzIGdvaW5nCi8vIHRvIHBvbGwgZm9yIGNvbXBsZXRpb24gb2YgZWFjaCBzdGVwLgovLyBUaGlzIHVzZXMgYSBQcm9taXNlIHRvIGJsb2NrIHRoZSBweXRob24gc2lkZSBvbiBjb21wbGV0aW9uIG9mIGVhY2ggc3RlcCwKLy8gdGhlbiBwYXNzZXMgdGhlIHJlc3VsdCBvZiB0aGUgcHJldmlvdXMgc3RlcCBhcyB0aGUgaW5wdXQgdG8gdGhlIG5leHQgc3RlcC4KZnVuY3Rpb24gX3VwbG9hZEZpbGVzQ29udGludWUob3V0cHV0SWQpIHsKICBjb25zdCBvdXRwdXRFbGVtZW50ID0gZG9jdW1lbnQuZ2V0RWxlbWVudEJ5SWQob3V0cHV0SWQpOwogIGNvbnN0IHN0ZXBzID0gb3V0cHV0RWxlbWVudC5zdGVwczsKCiAgY29uc3QgbmV4dCA9IHN0ZXBzLm5leHQob3V0cHV0RWxlbWVudC5sYXN0UHJvbWlzZVZhbHVlKTsKICByZXR1cm4gUHJvbWlzZS5yZXNvbHZlKG5leHQudmFsdWUucHJvbWlzZSkudGhlbigodmFsdWUpID0+IHsKICAgIC8vIENhY2hlIHRoZSBsYXN0IHByb21pc2UgdmFsdWUgdG8gbWFrZSBpdCBhdmFpbGFibGUgdG8gdGhlIG5leHQKICAgIC8vIHN0ZXAgb2YgdGhlIGdlbmVyYXRvci4KICAgIG91dHB1dEVsZW1lbnQubGFzdFByb21pc2VWYWx1ZSA9IHZhbHVlOwogICAgcmV0dXJuIG5leHQudmFsdWUucmVzcG9uc2U7CiAgfSk7Cn0KCi8qKgogKiBHZW5lcmF0b3IgZnVuY3Rpb24gd2hpY2ggaXMgY2FsbGVkIGJldHdlZW4gZWFjaCBhc3luYyBzdGVwIG9mIHRoZSB1cGxvYWQKICogcHJvY2Vzcy4KICogQHBhcmFtIHtzdHJpbmd9IGlucHV0SWQgRWxlbWVudCBJRCBvZiB0aGUgaW5wdXQgZmlsZSBwaWNrZXIgZWxlbWVudC4KICogQHBhcmFtIHtzdHJpbmd9IG91dHB1dElkIEVsZW1lbnQgSUQgb2YgdGhlIG91dHB1dCBkaXNwbGF5LgogKiBAcmV0dXJuIHshSXRlcmFibGU8IU9iamVjdD59IEl0ZXJhYmxlIG9mIG5leHQgc3RlcHMuCiAqLwpmdW5jdGlvbiogdXBsb2FkRmlsZXNTdGVwKGlucHV0SWQsIG91dHB1dElkKSB7CiAgY29uc3QgaW5wdXRFbGVtZW50ID0gZG9jdW1lbnQuZ2V0RWxlbWVudEJ5SWQoaW5wdXRJZCk7CiAgaW5wdXRFbGVtZW50LmRpc2FibGVkID0gZmFsc2U7CgogIGNvbnN0IG91dHB1dEVsZW1lbnQgPSBkb2N1bWVudC5nZXRFbGVtZW50QnlJZChvdXRwdXRJZCk7CiAgb3V0cHV0RWxlbWVudC5pbm5lckhUTUwgPSAnJzsKCiAgY29uc3QgcGlja2VkUHJvbWlzZSA9IG5ldyBQcm9taXNlKChyZXNvbHZlKSA9PiB7CiAgICBpbnB1dEVsZW1lbnQuYWRkRXZlbnRMaXN0ZW5lcignY2hhbmdlJywgKGUpID0+IHsKICAgICAgcmVzb2x2ZShlLnRhcmdldC5maWxlcyk7CiAgICB9KTsKICB9KTsKCiAgY29uc3QgY2FuY2VsID0gZG9jdW1lbnQuY3JlYXRlRWxlbWVudCgnYnV0dG9uJyk7CiAgaW5wdXRFbGVtZW50LnBhcmVudEVsZW1lbnQuYXBwZW5kQ2hpbGQoY2FuY2VsKTsKICBjYW5jZWwudGV4dENvbnRlbnQgPSAnQ2FuY2VsIHVwbG9hZCc7CiAgY29uc3QgY2FuY2VsUHJvbWlzZSA9IG5ldyBQcm9taXNlKChyZXNvbHZlKSA9PiB7CiAgICBjYW5jZWwub25jbGljayA9ICgpID0+IHsKICAgICAgcmVzb2x2ZShudWxsKTsKICAgIH07CiAgfSk7CgogIC8vIENhbmNlbCB1cGxvYWQgaWYgdXNlciBoYXNuJ3QgcGlja2VkIGFueXRoaW5nIGluIHRpbWVvdXQuCiAgY29uc3QgdGltZW91dFByb21pc2UgPSBuZXcgUHJvbWlzZSgocmVzb2x2ZSkgPT4gewogICAgc2V0VGltZW91dCgoKSA9PiB7CiAgICAgIHJlc29sdmUobnVsbCk7CiAgICB9LCBGSUxFX0NIQU5HRV9USU1FT1VUX01TKTsKICB9KTsKCiAgLy8gV2FpdCBmb3IgdGhlIHVzZXIgdG8gcGljayB0aGUgZmlsZXMuCiAgY29uc3QgZmlsZXMgPSB5aWVsZCB7CiAgICBwcm9taXNlOiBQcm9taXNlLnJhY2UoW3BpY2tlZFByb21pc2UsIHRpbWVvdXRQcm9taXNlLCBjYW5jZWxQcm9taXNlXSksCiAgICByZXNwb25zZTogewogICAgICBhY3Rpb246ICdzdGFydGluZycsCiAgICB9CiAgfTsKCiAgaWYgKCFmaWxlcykgewogICAgcmV0dXJuIHsKICAgICAgcmVzcG9uc2U6IHsKICAgICAgICBhY3Rpb246ICdjb21wbGV0ZScsCiAgICAgIH0KICAgIH07CiAgfQoKICBjYW5jZWwucmVtb3ZlKCk7CgogIC8vIERpc2FibGUgdGhlIGlucHV0IGVsZW1lbnQgc2luY2UgZnVydGhlciBwaWNrcyBhcmUgbm90IGFsbG93ZWQuCiAgaW5wdXRFbGVtZW50LmRpc2FibGVkID0gdHJ1ZTsKCiAgZm9yIChjb25zdCBmaWxlIG9mIGZpbGVzKSB7CiAgICBjb25zdCBsaSA9IGRvY3VtZW50LmNyZWF0ZUVsZW1lbnQoJ2xpJyk7CiAgICBsaS5hcHBlbmQoc3BhbihmaWxlLm5hbWUsIHtmb250V2VpZ2h0OiAnYm9sZCd9KSk7CiAgICBsaS5hcHBlbmQoc3BhbigKICAgICAgICBgKCR7ZmlsZS50eXBlIHx8ICduL2EnfSkgLSAke2ZpbGUuc2l6ZX0gYnl0ZXMsIGAgKwogICAgICAgIGBsYXN0IG1vZGlmaWVkOiAkewogICAgICAgICAgICBmaWxlLmxhc3RNb2RpZmllZERhdGUgPyBmaWxlLmxhc3RNb2RpZmllZERhdGUudG9Mb2NhbGVEYXRlU3RyaW5nKCkgOgogICAgICAgICAgICAgICAgICAgICAgICAgICAgICAgICAgICAnbi9hJ30gLSBgKSk7CiAgICBjb25zdCBwZXJjZW50ID0gc3BhbignMCUgZG9uZScpOwogICAgbGkuYXBwZW5kQ2hpbGQocGVyY2VudCk7CgogICAgb3V0cHV0RWxlbWVudC5hcHBlbmRDaGlsZChsaSk7CgogICAgY29uc3QgZmlsZURhdGFQcm9taXNlID0gbmV3IFByb21pc2UoKHJlc29sdmUpID0+IHsKICAgICAgY29uc3QgcmVhZGVyID0gbmV3IEZpbGVSZWFkZXIoKTsKICAgICAgcmVhZGVyLm9ubG9hZCA9IChlKSA9PiB7CiAgICAgICAgcmVzb2x2ZShlLnRhcmdldC5yZXN1bHQpOwogICAgICB9OwogICAgICByZWFkZXIucmVhZEFzQXJyYXlCdWZmZXIoZmlsZSk7CiAgICB9KTsKICAgIC8vIFdhaXQgZm9yIHRoZSBkYXRhIHRvIGJlIHJlYWR5LgogICAgbGV0IGZpbGVEYXRhID0geWllbGQgewogICAgICBwcm9taXNlOiBmaWxlRGF0YVByb21pc2UsCiAgICAgIHJlc3BvbnNlOiB7CiAgICAgICAgYWN0aW9uOiAnY29udGludWUnLAogICAgICB9CiAgICB9OwoKICAgIC8vIFVzZSBhIGNodW5rZWQgc2VuZGluZyB0byBhdm9pZCBtZXNzYWdlIHNpemUgbGltaXRzLiBTZWUgYi82MjExNTY2MC4KICAgIGxldCBwb3NpdGlvbiA9IDA7CiAgICB3aGlsZSAocG9zaXRpb24gPCBmaWxlRGF0YS5ieXRlTGVuZ3RoKSB7CiAgICAgIGNvbnN0IGxlbmd0aCA9IE1hdGgubWluKGZpbGVEYXRhLmJ5dGVMZW5ndGggLSBwb3NpdGlvbiwgTUFYX1BBWUxPQURfU0laRSk7CiAgICAgIGNvbnN0IGNodW5rID0gbmV3IFVpbnQ4QXJyYXkoZmlsZURhdGEsIHBvc2l0aW9uLCBsZW5ndGgpOwogICAgICBwb3NpdGlvbiArPSBsZW5ndGg7CgogICAgICBjb25zdCBiYXNlNjQgPSBidG9hKFN0cmluZy5mcm9tQ2hhckNvZGUuYXBwbHkobnVsbCwgY2h1bmspKTsKICAgICAgeWllbGQgewogICAgICAgIHJlc3BvbnNlOiB7CiAgICAgICAgICBhY3Rpb246ICdhcHBlbmQnLAogICAgICAgICAgZmlsZTogZmlsZS5uYW1lLAogICAgICAgICAgZGF0YTogYmFzZTY0LAogICAgICAgIH0sCiAgICAgIH07CiAgICAgIHBlcmNlbnQudGV4dENvbnRlbnQgPQogICAgICAgICAgYCR7TWF0aC5yb3VuZCgocG9zaXRpb24gLyBmaWxlRGF0YS5ieXRlTGVuZ3RoKSAqIDEwMCl9JSBkb25lYDsKICAgIH0KICB9CgogIC8vIEFsbCBkb25lLgogIHlpZWxkIHsKICAgIHJlc3BvbnNlOiB7CiAgICAgIGFjdGlvbjogJ2NvbXBsZXRlJywKICAgIH0KICB9Owp9CgpzY29wZS5nb29nbGUgPSBzY29wZS5nb29nbGUgfHwge307CnNjb3BlLmdvb2dsZS5jb2xhYiA9IHNjb3BlLmdvb2dsZS5jb2xhYiB8fCB7fTsKc2NvcGUuZ29vZ2xlLmNvbGFiLl9maWxlcyA9IHsKICBfdXBsb2FkRmlsZXMsCiAgX3VwbG9hZEZpbGVzQ29udGludWUsCn07Cn0pKHNlbGYpOwo=",
              "ok": true,
              "headers": [
                [
                  "content-type",
                  "application/javascript"
                ]
              ],
              "status": 200,
              "status_text": ""
            }
          },
          "base_uri": "https://localhost:8080/",
          "height": 72
        },
        "outputId": "8f3cea02-eaac-4434-94f8-413c596fba0b"
      },
      "cell_type": "code",
      "source": [
        "uploaded=files.upload()"
      ],
      "execution_count": 33,
      "outputs": [
        {
          "output_type": "display_data",
          "data": {
            "text/html": [
              "\n",
              "     <input type=\"file\" id=\"files-e324d530-c53f-42e8-b768-10d954ddf49f\" name=\"files[]\" multiple disabled />\n",
              "     <output id=\"result-e324d530-c53f-42e8-b768-10d954ddf49f\">\n",
              "      Upload widget is only available when the cell has been executed in the\n",
              "      current browser session. Please rerun this cell to enable.\n",
              "      </output>\n",
              "      <script src=\"/nbextensions/google.colab/files.js\"></script> "
            ],
            "text/plain": [
              "<IPython.core.display.HTML object>"
            ]
          },
          "metadata": {
            "tags": []
          }
        },
        {
          "output_type": "stream",
          "text": [
            "Saving anonymized_data.csv to anonymized_data.csv\n"
          ],
          "name": "stdout"
        }
      ]
    },
    {
      "metadata": {
        "id": "sEYFKUF9_S7d",
        "colab_type": "code",
        "colab": {}
      },
      "cell_type": "code",
      "source": [
        "df=pd.read_csv('anonymized_data.csv')"
      ],
      "execution_count": 0,
      "outputs": []
    },
    {
      "metadata": {
        "id": "IpBwohPY_-vB",
        "colab_type": "code",
        "colab": {
          "base_uri": "https://localhost:8080/",
          "height": 253
        },
        "outputId": "afa88681-f8f4-423e-ba77-d16aa2c878b0"
      },
      "cell_type": "code",
      "source": [
        "df.head()"
      ],
      "execution_count": 35,
      "outputs": [
        {
          "output_type": "execute_result",
          "data": {
            "text/html": [
              "<div>\n",
              "<style scoped>\n",
              "    .dataframe tbody tr th:only-of-type {\n",
              "        vertical-align: middle;\n",
              "    }\n",
              "\n",
              "    .dataframe tbody tr th {\n",
              "        vertical-align: top;\n",
              "    }\n",
              "\n",
              "    .dataframe thead th {\n",
              "        text-align: right;\n",
              "    }\n",
              "</style>\n",
              "<table border=\"1\" class=\"dataframe\">\n",
              "  <thead>\n",
              "    <tr style=\"text-align: right;\">\n",
              "      <th></th>\n",
              "      <th>EJWY</th>\n",
              "      <th>VALM</th>\n",
              "      <th>EGXO</th>\n",
              "      <th>HTGR</th>\n",
              "      <th>SKRF</th>\n",
              "      <th>NNSZ</th>\n",
              "      <th>NYLC</th>\n",
              "      <th>GWID</th>\n",
              "      <th>TVUT</th>\n",
              "      <th>CJHI</th>\n",
              "      <th>...</th>\n",
              "      <th>LKKS</th>\n",
              "      <th>UOBF</th>\n",
              "      <th>VBHE</th>\n",
              "      <th>FRWU</th>\n",
              "      <th>NDYZ</th>\n",
              "      <th>QSBO</th>\n",
              "      <th>JDUB</th>\n",
              "      <th>TEVK</th>\n",
              "      <th>EZTM</th>\n",
              "      <th>Label</th>\n",
              "    </tr>\n",
              "  </thead>\n",
              "  <tbody>\n",
              "    <tr>\n",
              "      <th>0</th>\n",
              "      <td>-2.032145</td>\n",
              "      <td>1.019576</td>\n",
              "      <td>-9.658715</td>\n",
              "      <td>-6.210495</td>\n",
              "      <td>3.156823</td>\n",
              "      <td>7.457850</td>\n",
              "      <td>-5.313357</td>\n",
              "      <td>8.508296</td>\n",
              "      <td>3.959194</td>\n",
              "      <td>-5.246654</td>\n",
              "      <td>...</td>\n",
              "      <td>-2.209663</td>\n",
              "      <td>-10.340123</td>\n",
              "      <td>-7.697555</td>\n",
              "      <td>-5.932752</td>\n",
              "      <td>10.872688</td>\n",
              "      <td>0.081321</td>\n",
              "      <td>1.276316</td>\n",
              "      <td>5.281225</td>\n",
              "      <td>-0.516447</td>\n",
              "      <td>0.0</td>\n",
              "    </tr>\n",
              "    <tr>\n",
              "      <th>1</th>\n",
              "      <td>8.306217</td>\n",
              "      <td>6.649376</td>\n",
              "      <td>-0.960333</td>\n",
              "      <td>-4.094799</td>\n",
              "      <td>8.738965</td>\n",
              "      <td>-3.458797</td>\n",
              "      <td>7.016800</td>\n",
              "      <td>6.692765</td>\n",
              "      <td>0.898264</td>\n",
              "      <td>9.337643</td>\n",
              "      <td>...</td>\n",
              "      <td>0.851793</td>\n",
              "      <td>-9.678324</td>\n",
              "      <td>-6.071795</td>\n",
              "      <td>1.428194</td>\n",
              "      <td>-8.082792</td>\n",
              "      <td>-0.557089</td>\n",
              "      <td>-7.817282</td>\n",
              "      <td>-8.686722</td>\n",
              "      <td>-6.953100</td>\n",
              "      <td>1.0</td>\n",
              "    </tr>\n",
              "    <tr>\n",
              "      <th>2</th>\n",
              "      <td>6.570842</td>\n",
              "      <td>6.985462</td>\n",
              "      <td>-1.842621</td>\n",
              "      <td>-1.569599</td>\n",
              "      <td>10.039339</td>\n",
              "      <td>-3.623026</td>\n",
              "      <td>8.957619</td>\n",
              "      <td>7.577283</td>\n",
              "      <td>1.541255</td>\n",
              "      <td>7.161509</td>\n",
              "      <td>...</td>\n",
              "      <td>1.376085</td>\n",
              "      <td>-8.971164</td>\n",
              "      <td>-5.302191</td>\n",
              "      <td>2.898965</td>\n",
              "      <td>-8.746597</td>\n",
              "      <td>-0.520888</td>\n",
              "      <td>-7.350999</td>\n",
              "      <td>-8.925501</td>\n",
              "      <td>-7.051179</td>\n",
              "      <td>1.0</td>\n",
              "    </tr>\n",
              "    <tr>\n",
              "      <th>3</th>\n",
              "      <td>-1.139972</td>\n",
              "      <td>0.579422</td>\n",
              "      <td>-9.526530</td>\n",
              "      <td>-5.744928</td>\n",
              "      <td>4.834355</td>\n",
              "      <td>5.907235</td>\n",
              "      <td>-4.804137</td>\n",
              "      <td>6.798810</td>\n",
              "      <td>5.403670</td>\n",
              "      <td>-7.642857</td>\n",
              "      <td>...</td>\n",
              "      <td>0.270571</td>\n",
              "      <td>-8.640988</td>\n",
              "      <td>-8.105419</td>\n",
              "      <td>-5.079015</td>\n",
              "      <td>9.351282</td>\n",
              "      <td>0.641759</td>\n",
              "      <td>1.898083</td>\n",
              "      <td>3.904671</td>\n",
              "      <td>1.453499</td>\n",
              "      <td>0.0</td>\n",
              "    </tr>\n",
              "    <tr>\n",
              "      <th>4</th>\n",
              "      <td>-1.738104</td>\n",
              "      <td>0.234729</td>\n",
              "      <td>-11.558768</td>\n",
              "      <td>-7.181332</td>\n",
              "      <td>4.189626</td>\n",
              "      <td>7.765274</td>\n",
              "      <td>-2.189083</td>\n",
              "      <td>7.239925</td>\n",
              "      <td>3.135602</td>\n",
              "      <td>-6.211390</td>\n",
              "      <td>...</td>\n",
              "      <td>-0.013973</td>\n",
              "      <td>-9.437110</td>\n",
              "      <td>-6.475267</td>\n",
              "      <td>-5.708377</td>\n",
              "      <td>9.623080</td>\n",
              "      <td>1.802899</td>\n",
              "      <td>1.903705</td>\n",
              "      <td>4.188442</td>\n",
              "      <td>1.522362</td>\n",
              "      <td>0.0</td>\n",
              "    </tr>\n",
              "  </tbody>\n",
              "</table>\n",
              "<p>5 rows × 31 columns</p>\n",
              "</div>"
            ],
            "text/plain": [
              "       EJWY      VALM       EGXO      HTGR       SKRF      NNSZ      NYLC  \\\n",
              "0 -2.032145  1.019576  -9.658715 -6.210495   3.156823  7.457850 -5.313357   \n",
              "1  8.306217  6.649376  -0.960333 -4.094799   8.738965 -3.458797  7.016800   \n",
              "2  6.570842  6.985462  -1.842621 -1.569599  10.039339 -3.623026  8.957619   \n",
              "3 -1.139972  0.579422  -9.526530 -5.744928   4.834355  5.907235 -4.804137   \n",
              "4 -1.738104  0.234729 -11.558768 -7.181332   4.189626  7.765274 -2.189083   \n",
              "\n",
              "       GWID      TVUT      CJHI  ...        LKKS       UOBF      VBHE  \\\n",
              "0  8.508296  3.959194 -5.246654  ...   -2.209663 -10.340123 -7.697555   \n",
              "1  6.692765  0.898264  9.337643  ...    0.851793  -9.678324 -6.071795   \n",
              "2  7.577283  1.541255  7.161509  ...    1.376085  -8.971164 -5.302191   \n",
              "3  6.798810  5.403670 -7.642857  ...    0.270571  -8.640988 -8.105419   \n",
              "4  7.239925  3.135602 -6.211390  ...   -0.013973  -9.437110 -6.475267   \n",
              "\n",
              "       FRWU       NDYZ      QSBO      JDUB      TEVK      EZTM  Label  \n",
              "0 -5.932752  10.872688  0.081321  1.276316  5.281225 -0.516447    0.0  \n",
              "1  1.428194  -8.082792 -0.557089 -7.817282 -8.686722 -6.953100    1.0  \n",
              "2  2.898965  -8.746597 -0.520888 -7.350999 -8.925501 -7.051179    1.0  \n",
              "3 -5.079015   9.351282  0.641759  1.898083  3.904671  1.453499    0.0  \n",
              "4 -5.708377   9.623080  1.802899  1.903705  4.188442  1.522362    0.0  \n",
              "\n",
              "[5 rows x 31 columns]"
            ]
          },
          "metadata": {
            "tags": []
          },
          "execution_count": 35
        }
      ]
    },
    {
      "metadata": {
        "id": "49aIy_dpAATp",
        "colab_type": "code",
        "colab": {}
      },
      "cell_type": "code",
      "source": [
        "from sklearn.preprocessing import MinMaxScaler"
      ],
      "execution_count": 0,
      "outputs": []
    },
    {
      "metadata": {
        "id": "w6nnBW3nASrP",
        "colab_type": "code",
        "colab": {}
      },
      "cell_type": "code",
      "source": [
        "scaler=MinMaxScaler()"
      ],
      "execution_count": 0,
      "outputs": []
    },
    {
      "metadata": {
        "id": "Y8_81XFAAXPA",
        "colab_type": "code",
        "colab": {}
      },
      "cell_type": "code",
      "source": [
        "scaled_data=scaler.fit_transform(df.drop('Label',axis=1))"
      ],
      "execution_count": 0,
      "outputs": []
    },
    {
      "metadata": {
        "id": "LbB25vEKAgvJ",
        "colab_type": "code",
        "colab": {}
      },
      "cell_type": "code",
      "source": [
        "num_inputs=30\n",
        "num_hidden=2\n",
        "num_outputs=num_inputs\n",
        "learning_rate=0.01"
      ],
      "execution_count": 0,
      "outputs": []
    },
    {
      "metadata": {
        "id": "vF3hrHSNBABh",
        "colab_type": "code",
        "colab": {}
      },
      "cell_type": "code",
      "source": [
        "X=tf.placeholder(tf.float32,shape=[None,num_inputs])"
      ],
      "execution_count": 0,
      "outputs": []
    },
    {
      "metadata": {
        "id": "iWAjQuRUBLSh",
        "colab_type": "code",
        "colab": {}
      },
      "cell_type": "code",
      "source": [
        "hidden=fully_connected(X,num_hidden,activation_fn=None)"
      ],
      "execution_count": 0,
      "outputs": []
    },
    {
      "metadata": {
        "id": "zh55wDDfBaIS",
        "colab_type": "code",
        "colab": {}
      },
      "cell_type": "code",
      "source": [
        "outputs=fully_connected(hidden,num_outputs,activation_fn=None)"
      ],
      "execution_count": 0,
      "outputs": []
    },
    {
      "metadata": {
        "id": "PRw83pSpIGEC",
        "colab_type": "code",
        "colab": {}
      },
      "cell_type": "code",
      "source": [
        "loss=tf.reduce_mean(tf.square(outputs-X))"
      ],
      "execution_count": 0,
      "outputs": []
    },
    {
      "metadata": {
        "id": "gsmfb_ibIPIq",
        "colab_type": "code",
        "colab": {}
      },
      "cell_type": "code",
      "source": [
        "optimizer=tf.train.AdamOptimizer(learning_rate)"
      ],
      "execution_count": 0,
      "outputs": []
    },
    {
      "metadata": {
        "id": "WrTKQRb7IewX",
        "colab_type": "code",
        "colab": {}
      },
      "cell_type": "code",
      "source": [
        "train=optimizer.minimize(loss)"
      ],
      "execution_count": 0,
      "outputs": []
    },
    {
      "metadata": {
        "id": "08-ZipebIlSp",
        "colab_type": "code",
        "colab": {}
      },
      "cell_type": "code",
      "source": [
        "init=tf.global_variables_initializer()"
      ],
      "execution_count": 0,
      "outputs": []
    },
    {
      "metadata": {
        "id": "vl56fh23IpYX",
        "colab_type": "code",
        "colab": {}
      },
      "cell_type": "code",
      "source": [
        "num_steps=5000\n",
        "with tf.Session() as sess:\n",
        "  sess.run(init)\n",
        "  for iteration in range(num_steps):\n",
        "    sess.run(train,feed_dict={X:scaled_data})\n",
        "    \n",
        "    \n",
        "  "
      ],
      "execution_count": 0,
      "outputs": []
    },
    {
      "metadata": {
        "id": "Oj_hJLwfI5Mf",
        "colab_type": "code",
        "colab": {}
      },
      "cell_type": "code",
      "source": [
        "with tf.Session() as sess:\n",
        "  sess.run(init)\n",
        "  output_2d=hidden.eval(feed_dict={X:scaled_data})"
      ],
      "execution_count": 0,
      "outputs": []
    },
    {
      "metadata": {
        "id": "rsEzvHJUJKla",
        "colab_type": "code",
        "colab": {
          "base_uri": "https://localhost:8080/",
          "height": 34
        },
        "outputId": "820dd727-c0b3-48ad-f42a-d9bf6f13dcb5"
      },
      "cell_type": "code",
      "source": [
        "output_2d.shape"
      ],
      "execution_count": 58,
      "outputs": [
        {
          "output_type": "execute_result",
          "data": {
            "text/plain": [
              "(500, 2)"
            ]
          },
          "metadata": {
            "tags": []
          },
          "execution_count": 58
        }
      ]
    },
    {
      "metadata": {
        "id": "d71BiGMUJQKn",
        "colab_type": "code",
        "colab": {
          "base_uri": "https://localhost:8080/",
          "height": 8517
        },
        "outputId": "684ea268-9dc8-4461-a17b-a76910e74d82"
      },
      "cell_type": "code",
      "source": [
        "output_2d"
      ],
      "execution_count": 59,
      "outputs": [
        {
          "output_type": "execute_result",
          "data": {
            "text/plain": [
              "array([[-5.02901316e-01,  8.44547093e-01],\n",
              "       [ 8.86409342e-01, -5.27079582e-01],\n",
              "       [ 9.36760724e-01, -4.09616411e-01],\n",
              "       [-2.35231549e-01,  7.09863365e-01],\n",
              "       [-3.21943581e-01,  9.45705473e-01],\n",
              "       [ 8.47547650e-01, -2.51468658e-01],\n",
              "       [ 1.08631027e+00, -8.73341411e-02],\n",
              "       [ 7.47237444e-01, -1.60936370e-01],\n",
              "       [-1.82702646e-01,  6.72010481e-01],\n",
              "       [-2.28953809e-01,  7.40771234e-01],\n",
              "       [-3.81136954e-01,  1.18980289e+00],\n",
              "       [ 1.04658699e+00, -4.21497703e-01],\n",
              "       [ 1.16234756e+00, -5.52541018e-01],\n",
              "       [-9.02127028e-02,  4.51877952e-01],\n",
              "       [ 1.11902583e+00, -2.53649235e-01],\n",
              "       [ 5.96327782e-02,  4.68222022e-01],\n",
              "       [ 8.68180513e-01, -2.68959463e-01],\n",
              "       [-3.79242867e-01,  9.42694843e-01],\n",
              "       [ 9.60955739e-01, -4.16782320e-01],\n",
              "       [ 8.03480089e-01, -6.17216155e-02],\n",
              "       [ 1.01571941e+00, -3.56498867e-01],\n",
              "       [-2.62682974e-01,  1.07351804e+00],\n",
              "       [ 9.58692610e-01, -4.37808514e-01],\n",
              "       [-1.45008573e-02,  8.33015740e-01],\n",
              "       [-3.96969020e-01,  8.01407158e-01],\n",
              "       [-3.00580770e-01,  1.02280247e+00],\n",
              "       [-3.37455451e-01,  8.16158652e-01],\n",
              "       [ 9.37238455e-01,  9.98264458e-03],\n",
              "       [-2.93542653e-01,  1.02872086e+00],\n",
              "       [ 9.84130740e-01, -3.38782072e-01],\n",
              "       [ 1.04809439e+00, -2.18651280e-01],\n",
              "       [ 1.08035803e+00, -3.54018331e-01],\n",
              "       [-4.29944575e-01,  1.02202868e+00],\n",
              "       [ 9.35592115e-01, -2.13850752e-01],\n",
              "       [ 7.24270225e-01, -4.30659324e-01],\n",
              "       [ 1.07271111e+00, -2.97973305e-01],\n",
              "       [ 1.20421398e+00, -5.32371104e-01],\n",
              "       [ 9.79001641e-01, -3.70567828e-01],\n",
              "       [-3.34041595e-01,  7.65671670e-01],\n",
              "       [-5.53450882e-01,  9.41254497e-01],\n",
              "       [ 9.51559722e-01, -2.62824953e-01],\n",
              "       [ 8.51935685e-01, -2.76795655e-01],\n",
              "       [ 1.07993841e+00, -3.71743023e-01],\n",
              "       [-1.95550784e-01,  8.12085688e-01],\n",
              "       [ 1.31855893e+00, -4.32925135e-01],\n",
              "       [-2.15799376e-01,  7.33875930e-01],\n",
              "       [-1.13571905e-01,  9.77898836e-01],\n",
              "       [-5.40335834e-01,  1.06800604e+00],\n",
              "       [ 9.52197313e-01, -1.15651287e-01],\n",
              "       [-8.88035297e-02,  6.22093379e-01],\n",
              "       [-3.30949396e-01,  7.01350749e-01],\n",
              "       [ 8.66018176e-01, -1.91419527e-01],\n",
              "       [ 1.03737891e+00, -3.69156390e-01],\n",
              "       [ 7.83500373e-01,  1.86822703e-03],\n",
              "       [ 1.18705893e+00, -4.23533559e-01],\n",
              "       [ 7.26939857e-01, -1.81250915e-01],\n",
              "       [ 1.01224780e+00, -4.00590271e-01],\n",
              "       [ 9.54503715e-01, -1.85289502e-01],\n",
              "       [-6.30170181e-02,  4.77112263e-01],\n",
              "       [-2.78970033e-01,  7.01101303e-01],\n",
              "       [-1.88158333e-01,  6.68109953e-01],\n",
              "       [-2.49565199e-01,  5.21021605e-01],\n",
              "       [-1.07701980e-01,  5.81873357e-01],\n",
              "       [ 9.39847827e-01, -4.11023110e-01],\n",
              "       [ 8.46827269e-01, -1.89971551e-01],\n",
              "       [ 8.64782691e-01, -2.69054830e-01],\n",
              "       [-9.33043584e-02,  7.16264725e-01],\n",
              "       [-6.27726763e-02,  5.47897041e-01],\n",
              "       [-2.31051207e-01,  9.49968576e-01],\n",
              "       [ 9.26458538e-01, -2.91682571e-01],\n",
              "       [-2.75557250e-01,  7.21245170e-01],\n",
              "       [ 8.70519161e-01,  1.25544788e-02],\n",
              "       [-2.41294444e-01,  7.71533787e-01],\n",
              "       [ 9.31870997e-01, -2.65623808e-01],\n",
              "       [ 1.01184142e+00, -3.46454293e-01],\n",
              "       [ 8.98886800e-01, -4.33048606e-01],\n",
              "       [-1.98614150e-01,  9.45576310e-01],\n",
              "       [-2.74746358e-01,  8.55092287e-01],\n",
              "       [-2.90856868e-01,  8.78390968e-01],\n",
              "       [-3.46869826e-01,  9.50854599e-01],\n",
              "       [-4.31164593e-01,  8.47367108e-01],\n",
              "       [-5.17498434e-01,  8.83578002e-01],\n",
              "       [ 8.97568464e-01, -3.44910324e-01],\n",
              "       [-1.84406087e-01,  7.89651394e-01],\n",
              "       [-1.77916214e-01,  8.29874575e-01],\n",
              "       [ 7.84284413e-01, -2.64492124e-01],\n",
              "       [ 1.00020063e+00, -4.42690760e-01],\n",
              "       [-1.67906553e-01,  6.70703411e-01],\n",
              "       [ 4.60502738e-03,  8.03306699e-01],\n",
              "       [-3.12240660e-01,  8.04344118e-01],\n",
              "       [ 8.33084226e-01, -3.58671904e-01],\n",
              "       [-3.69567364e-01,  9.51237857e-01],\n",
              "       [ 8.47601891e-01, -2.52332985e-01],\n",
              "       [ 8.49453986e-01, -1.42078713e-01],\n",
              "       [ 1.09103227e+00, -5.56714952e-01],\n",
              "       [-2.28816330e-01,  5.80350161e-01],\n",
              "       [ 9.01936412e-01, -2.79616505e-01],\n",
              "       [-3.27350289e-01,  9.05261457e-01],\n",
              "       [ 1.03252304e+00, -4.09155786e-01],\n",
              "       [ 1.00017214e+00, -8.88209343e-02],\n",
              "       [-3.20335068e-02,  6.02994919e-01],\n",
              "       [ 2.37025023e-02,  5.01632512e-01],\n",
              "       [ 9.17558432e-01, -1.32324472e-01],\n",
              "       [-2.85807759e-01,  8.25299025e-01],\n",
              "       [ 1.00763488e+00, -1.43825933e-01],\n",
              "       [ 9.53768313e-01, -1.85751542e-02],\n",
              "       [ 8.61880660e-01, -1.62777677e-01],\n",
              "       [-1.69798478e-01,  8.09823096e-01],\n",
              "       [ 6.84166193e-01, -6.30907656e-04],\n",
              "       [ 8.66486251e-01, -7.04532340e-02],\n",
              "       [-3.70445967e-01,  8.99655640e-01],\n",
              "       [-3.65580142e-01,  9.00554001e-01],\n",
              "       [ 1.08941782e+00, -1.76282451e-01],\n",
              "       [ 8.75334799e-01, -3.85513514e-01],\n",
              "       [-1.03581712e-01,  6.54627860e-01],\n",
              "       [ 6.92104161e-01, -7.99206570e-02],\n",
              "       [ 1.07063615e+00, -4.50421453e-01],\n",
              "       [-2.24073008e-01,  1.07527983e+00],\n",
              "       [ 8.77435446e-01, -4.06057715e-01],\n",
              "       [ 1.09608257e+00, -4.73880976e-01],\n",
              "       [ 8.85281622e-01, -3.05699944e-01],\n",
              "       [ 9.62373555e-01, -5.48563004e-01],\n",
              "       [-2.22788662e-01,  8.21432948e-01],\n",
              "       [ 9.74190235e-01, -3.89659375e-01],\n",
              "       [ 9.62523878e-01, -4.17375356e-01],\n",
              "       [-1.41442999e-01,  4.27001178e-01],\n",
              "       [-3.65109712e-01,  1.06242692e+00],\n",
              "       [ 9.90504503e-01, -2.88884789e-01],\n",
              "       [-3.04551572e-01,  1.07801342e+00],\n",
              "       [ 1.07591462e+00,  1.64092369e-02],\n",
              "       [ 9.46314514e-01, -4.00595516e-01],\n",
              "       [ 9.37379897e-01,  9.29143559e-03],\n",
              "       [ 9.64177132e-01, -1.77125469e-01],\n",
              "       [-3.83710712e-01,  9.03460026e-01],\n",
              "       [ 7.90902197e-01, -1.68244526e-01],\n",
              "       [ 9.98627126e-01, -6.25488341e-01],\n",
              "       [ 8.44926178e-01, -9.86762270e-02],\n",
              "       [ 9.52949882e-01, -3.56585681e-01],\n",
              "       [ 1.09002054e+00, -1.85841069e-01],\n",
              "       [-1.63628638e-01,  7.13266253e-01],\n",
              "       [ 1.03020716e+00, -2.90349394e-01],\n",
              "       [-2.92283475e-01,  8.31080914e-01],\n",
              "       [-1.97928146e-01,  8.08662474e-01],\n",
              "       [-7.10618347e-02,  5.85904300e-01],\n",
              "       [-7.69108981e-02,  4.41387981e-01],\n",
              "       [-3.30949306e-01,  8.66816223e-01],\n",
              "       [ 1.02533126e+00, -9.74456891e-02],\n",
              "       [ 9.75404322e-01, -3.49102080e-01],\n",
              "       [ 1.04079139e+00, -2.09742457e-01],\n",
              "       [ 1.35691743e-03,  5.66556394e-01],\n",
              "       [-1.30119309e-01,  1.15326703e+00],\n",
              "       [ 9.38225389e-01, -3.75051677e-01],\n",
              "       [ 1.09354150e+00, -3.31349224e-01],\n",
              "       [-3.03102076e-01,  7.80193686e-01],\n",
              "       [-1.37441322e-01,  8.24268103e-01],\n",
              "       [ 8.37020338e-01, -3.11578453e-01],\n",
              "       [ 1.05695271e+00, -5.54125488e-01],\n",
              "       [ 7.98062325e-01, -9.82790887e-02],\n",
              "       [ 8.40849400e-01, -2.73421347e-01],\n",
              "       [ 8.69286239e-01, -3.00148606e-01],\n",
              "       [ 7.21884787e-01, -1.55925930e-01],\n",
              "       [ 1.12784457e+00, -3.88763905e-01],\n",
              "       [ 1.03713512e+00, -4.91401374e-01],\n",
              "       [ 9.36104596e-01, -1.55330449e-03],\n",
              "       [ 1.02018607e+00, -5.02911270e-01],\n",
              "       [ 7.49792874e-01, -1.76884681e-01],\n",
              "       [ 1.08522320e+00, -2.30313763e-01],\n",
              "       [ 1.08443701e+00, -5.26347280e-01],\n",
              "       [ 8.12033117e-01, -6.71065003e-02],\n",
              "       [-1.90553069e-01,  8.83411169e-01],\n",
              "       [-1.48842514e-01,  6.26229286e-01],\n",
              "       [ 8.77828002e-01, -2.15720087e-01],\n",
              "       [-1.55131772e-01,  1.00012052e+00],\n",
              "       [-2.02298298e-01,  8.83766592e-01],\n",
              "       [-2.94171572e-01,  1.05390275e+00],\n",
              "       [-3.04959506e-01,  8.32615793e-01],\n",
              "       [ 9.82501864e-01, -2.81142592e-01],\n",
              "       [ 1.05057561e+00, -2.58834958e-01],\n",
              "       [-1.99836940e-01,  7.72002280e-01],\n",
              "       [-4.19636890e-02,  7.58944154e-01],\n",
              "       [-2.39317343e-01,  7.40101278e-01],\n",
              "       [-2.23356113e-01,  7.98944771e-01],\n",
              "       [-2.23368645e-01,  5.26791632e-01],\n",
              "       [-1.37276635e-01,  6.17519677e-01],\n",
              "       [-2.01483309e-01,  5.94449103e-01],\n",
              "       [ 1.03400409e+00, -2.15088502e-01],\n",
              "       [ 8.33721578e-01, -4.38221425e-01],\n",
              "       [ 8.93552601e-01, -1.81975842e-01],\n",
              "       [-9.83758122e-02,  8.90279472e-01],\n",
              "       [-9.91643518e-02,  6.20576084e-01],\n",
              "       [-2.38952264e-01,  6.63680553e-01],\n",
              "       [-2.25158215e-01,  8.44795644e-01],\n",
              "       [ 9.14856911e-01, -3.89679551e-01],\n",
              "       [ 9.08964217e-01, -8.74742940e-02],\n",
              "       [ 8.32106888e-01, -7.33434558e-02],\n",
              "       [-2.24898756e-01,  6.23246014e-01],\n",
              "       [-1.42620280e-01,  8.56032431e-01],\n",
              "       [-1.93139970e-01,  8.26608658e-01],\n",
              "       [-2.20318288e-01,  9.67655063e-01],\n",
              "       [ 9.69437182e-01, -2.10475564e-01],\n",
              "       [ 9.81840372e-01, -2.72057384e-01],\n",
              "       [ 7.61639953e-01,  7.63478205e-02],\n",
              "       [-2.10006073e-01,  7.80011475e-01],\n",
              "       [-4.83475924e-01,  1.28053617e+00],\n",
              "       [ 9.14040983e-01, -7.05364123e-02],\n",
              "       [ 8.39234114e-01,  4.87349629e-02],\n",
              "       [ 1.08758211e+00, -3.80754381e-01],\n",
              "       [-3.07098866e-01,  8.42457116e-01],\n",
              "       [-5.71345150e-01,  9.27990556e-01],\n",
              "       [-2.92947233e-01,  7.27364063e-01],\n",
              "       [-1.58277050e-01,  9.32979763e-01],\n",
              "       [-1.80264711e-01,  8.25009704e-01],\n",
              "       [ 9.23750162e-01, -1.13072574e-01],\n",
              "       [ 9.81696844e-01, -4.12091941e-01],\n",
              "       [ 1.01589501e+00, -1.92573845e-01],\n",
              "       [-1.95166409e-01,  8.98202956e-01],\n",
              "       [ 9.51032162e-01, -2.52590090e-01],\n",
              "       [-9.42979939e-04,  4.05068487e-01],\n",
              "       [-1.33155569e-01,  8.58878493e-01],\n",
              "       [-1.42936930e-01,  8.81034255e-01],\n",
              "       [ 1.05263209e+00, -4.76862133e-01],\n",
              "       [-3.92940551e-01,  8.79466116e-01],\n",
              "       [ 9.15361226e-01, -4.81796741e-01],\n",
              "       [-1.50298208e-01,  1.02103293e+00],\n",
              "       [ 1.07125974e+00, -4.07934129e-01],\n",
              "       [ 1.05076671e+00, -3.62003565e-01],\n",
              "       [ 1.06480896e+00, -2.22508684e-01],\n",
              "       [ 9.25835431e-01, -2.91878611e-01],\n",
              "       [-2.57586092e-01,  8.01070154e-01],\n",
              "       [-1.65431499e-01,  8.08848500e-01],\n",
              "       [-1.18687190e-01,  7.18490005e-01],\n",
              "       [-2.86276400e-01,  9.18749869e-01],\n",
              "       [-1.68867588e-01,  8.39160562e-01],\n",
              "       [ 7.99428046e-01, -3.25985640e-01],\n",
              "       [-2.09139377e-01,  5.18991351e-01],\n",
              "       [ 9.13805127e-01, -2.66917795e-01],\n",
              "       [ 1.00040829e+00, -2.44204536e-01],\n",
              "       [ 8.67062390e-01, -2.09369421e-01],\n",
              "       [ 1.19965315e+00, -3.65212649e-01],\n",
              "       [ 1.02647102e+00, -1.95505887e-01],\n",
              "       [ 1.12009609e+00, -2.70717949e-01],\n",
              "       [ 1.00383437e+00, -3.19821090e-01],\n",
              "       [-4.20620255e-02,  4.09078598e-01],\n",
              "       [-1.39844835e-01,  9.20724690e-01],\n",
              "       [-3.51886809e-01,  9.80013371e-01],\n",
              "       [-3.33918750e-01,  9.52753067e-01],\n",
              "       [-3.23165447e-01,  7.99191236e-01],\n",
              "       [ 1.08588254e+00, -3.60456645e-01],\n",
              "       [-3.55221927e-01,  7.54499018e-01],\n",
              "       [ 7.36364484e-01, -2.35677093e-01],\n",
              "       [-4.36113700e-02,  5.37571788e-01],\n",
              "       [ 1.10362005e+00, -2.45018706e-01],\n",
              "       [-1.32996574e-01,  6.86786175e-01],\n",
              "       [ 1.02481151e+00, -5.78658760e-01],\n",
              "       [-3.20627391e-01,  9.39899683e-01],\n",
              "       [ 1.07147682e+00, -2.74654597e-01],\n",
              "       [-2.35758722e-01,  8.54516149e-01],\n",
              "       [-3.23845774e-01,  9.60805714e-01],\n",
              "       [-4.04644310e-01,  9.69315350e-01],\n",
              "       [ 9.50274944e-01, -1.02769800e-01],\n",
              "       [-3.17592531e-01,  7.13376343e-01],\n",
              "       [ 7.58440554e-01, -3.74390751e-01],\n",
              "       [-1.23871513e-01,  7.36494899e-01],\n",
              "       [-5.20910285e-02,  6.63903832e-01],\n",
              "       [-2.17042938e-01,  9.26576257e-01],\n",
              "       [-3.15492660e-01,  6.33892119e-01],\n",
              "       [-7.12862909e-02,  6.36541307e-01],\n",
              "       [-3.22834492e-01,  1.13781607e+00],\n",
              "       [ 1.01308191e+00, -3.24367464e-01],\n",
              "       [ 9.66786146e-01, -1.93510920e-01],\n",
              "       [-2.32981250e-01,  9.59766865e-01],\n",
              "       [ 9.12683010e-01, -3.88682038e-01],\n",
              "       [ 1.15029991e+00, -4.76543784e-01],\n",
              "       [ 8.72388244e-01, -3.58018845e-01],\n",
              "       [-2.39879176e-01,  7.11111486e-01],\n",
              "       [ 7.29549646e-01, -1.85789406e-01],\n",
              "       [-2.03127891e-01,  8.73920143e-01],\n",
              "       [-6.37829527e-02,  7.07679570e-01],\n",
              "       [ 1.05152321e+00, -4.40694302e-01],\n",
              "       [ 8.98333251e-01, -1.92220807e-02],\n",
              "       [-1.47345783e-02,  5.70557415e-01],\n",
              "       [-3.12830687e-01,  8.89267862e-01],\n",
              "       [ 1.24796045e+00, -4.15495425e-01],\n",
              "       [ 8.35471570e-01, -2.35818490e-01],\n",
              "       [ 1.06364775e+00, -3.08907658e-01],\n",
              "       [ 1.13851905e+00, -2.48520479e-01],\n",
              "       [ 1.02350068e+00, -1.57403171e-01],\n",
              "       [-3.53390634e-01,  8.10270429e-01],\n",
              "       [-2.28102356e-01,  5.93007922e-01],\n",
              "       [ 8.56126487e-01, -4.64876473e-01],\n",
              "       [ 8.43383431e-01, -1.94982097e-01],\n",
              "       [-2.61262327e-01,  6.04521394e-01],\n",
              "       [-2.96656698e-01,  7.38271773e-01],\n",
              "       [-2.65407890e-01,  7.23497391e-01],\n",
              "       [-4.58529107e-02,  8.28747153e-01],\n",
              "       [-3.26834321e-01,  9.35074627e-01],\n",
              "       [-5.10697782e-01,  1.03468013e+00],\n",
              "       [ 1.09910762e+00, -1.08383209e-01],\n",
              "       [ 1.00292826e+00, -3.96643043e-01],\n",
              "       [ 1.01885903e+00, -2.56716579e-01],\n",
              "       [-3.30514163e-01,  9.31931078e-01],\n",
              "       [-3.06312680e-01,  8.69951665e-01],\n",
              "       [ 9.31910753e-01, -1.23045646e-01],\n",
              "       [-6.78516030e-02,  6.10664487e-01],\n",
              "       [ 1.00943005e+00, -1.67687580e-01],\n",
              "       [ 9.88398015e-01, -2.48685390e-01],\n",
              "       [ 8.31599832e-01, -3.59752983e-01],\n",
              "       [-3.06602418e-01,  9.38263535e-01],\n",
              "       [ 8.91582429e-01, -1.80334643e-01],\n",
              "       [ 8.49935770e-01, -2.80318018e-02],\n",
              "       [ 9.74389613e-01, -4.95174706e-01],\n",
              "       [-3.11519206e-01,  8.80357385e-01],\n",
              "       [ 8.69610190e-01,  1.32080346e-01],\n",
              "       [-3.00719947e-01,  8.49480093e-01],\n",
              "       [-1.17709927e-01,  5.67271888e-01],\n",
              "       [-4.80011851e-02,  6.25334203e-01],\n",
              "       [ 8.52495134e-01, -4.20900434e-01],\n",
              "       [ 9.50002491e-01, -3.85073870e-01],\n",
              "       [-2.94523686e-01,  1.05899560e+00],\n",
              "       [-5.09134650e-01,  1.07583797e+00],\n",
              "       [ 9.29246783e-01, -2.91001290e-01],\n",
              "       [-1.36476457e-01,  7.17202783e-01],\n",
              "       [-1.68911234e-01,  9.22982812e-01],\n",
              "       [ 1.12076426e+00, -2.83481359e-01],\n",
              "       [-1.46231249e-01,  8.06446731e-01],\n",
              "       [-1.46269977e-01,  6.99851751e-01],\n",
              "       [ 8.93486381e-01, -1.41239464e-01],\n",
              "       [-2.18825281e-01,  6.08557403e-01],\n",
              "       [ 8.22741210e-01, -1.88319847e-01],\n",
              "       [ 9.70547318e-01, -2.61126310e-01],\n",
              "       [ 9.85914767e-01, -2.18208939e-01],\n",
              "       [-3.40332389e-01,  8.86646450e-01],\n",
              "       [ 9.26345646e-01, -1.50367558e-01],\n",
              "       [ 1.23701668e+00, -4.29651767e-01],\n",
              "       [-4.86632347e-01,  9.03756022e-01],\n",
              "       [ 8.06764841e-01, -3.09001416e-01],\n",
              "       [-4.17989612e-01,  9.02786136e-01],\n",
              "       [ 8.37594271e-01, -3.49925429e-01],\n",
              "       [-1.21944308e-01,  8.70373547e-01],\n",
              "       [ 1.07468355e+00, -2.55110562e-01],\n",
              "       [-2.95033336e-01,  4.93307590e-01],\n",
              "       [ 7.84722745e-01, -1.87463686e-01],\n",
              "       [-1.37004122e-01,  7.34850764e-01],\n",
              "       [-4.05741811e-01,  1.02738285e+00],\n",
              "       [ 7.43512332e-01, -1.25877187e-01],\n",
              "       [ 9.69842553e-01, -4.17159796e-01],\n",
              "       [ 8.78159046e-01, -3.09588969e-01],\n",
              "       [ 1.00452662e+00, -2.79899567e-01],\n",
              "       [-1.91114873e-01,  8.74191344e-01],\n",
              "       [-2.51607269e-01,  7.43741274e-01],\n",
              "       [-2.30796635e-01,  6.25496149e-01],\n",
              "       [ 6.32316053e-01, -2.73472548e-01],\n",
              "       [-8.47152695e-02,  8.01530004e-01],\n",
              "       [-1.06140897e-01,  8.52240324e-01],\n",
              "       [-3.15600872e-01,  9.61508512e-01],\n",
              "       [-3.78229201e-01,  1.05782533e+00],\n",
              "       [-3.28762904e-02,  5.90453923e-01],\n",
              "       [-2.29176998e-01,  6.72128201e-01],\n",
              "       [-2.57577956e-01,  8.00081074e-01],\n",
              "       [ 1.01362431e+00, -6.13116920e-01],\n",
              "       [-3.25421065e-01,  9.08978283e-01],\n",
              "       [-1.24526106e-01,  8.83347094e-01],\n",
              "       [ 9.75752890e-01, -3.20047259e-01],\n",
              "       [ 9.33966875e-01, -2.62807906e-01],\n",
              "       [-2.74619222e-01,  6.23195708e-01],\n",
              "       [ 9.00876403e-01, -3.79188478e-01],\n",
              "       [ 1.12744200e+00, -4.65145200e-01],\n",
              "       [-1.38654057e-02,  7.25827813e-01],\n",
              "       [ 1.05721951e+00, -5.66300750e-01],\n",
              "       [ 8.06569993e-01, -8.26464221e-02],\n",
              "       [ 1.03011608e+00, -3.70137274e-01],\n",
              "       [ 8.95771682e-01, -1.49090424e-01],\n",
              "       [-2.34745339e-01,  7.10007310e-01],\n",
              "       [ 1.24152362e+00, -4.24278110e-01],\n",
              "       [ 1.05770802e+00, -2.23479360e-01],\n",
              "       [-2.56636113e-01,  7.29706645e-01],\n",
              "       [ 7.54490614e-01, -1.37232289e-01],\n",
              "       [ 1.04506338e+00, -3.35866839e-01],\n",
              "       [ 8.27689469e-01, -2.78015226e-01],\n",
              "       [ 8.64047766e-01, -4.30947214e-01],\n",
              "       [-1.66781530e-01,  6.39435410e-01],\n",
              "       [ 9.39056516e-01, -2.79015034e-01],\n",
              "       [ 8.84734452e-01, -3.71549688e-02],\n",
              "       [-1.73377693e-01,  7.98879027e-01],\n",
              "       [-2.49001067e-02,  9.72788513e-01],\n",
              "       [-1.96450502e-01,  7.53301442e-01],\n",
              "       [ 8.81000757e-01,  7.06231520e-02],\n",
              "       [-3.55255574e-01,  8.59316111e-01],\n",
              "       [-1.34635702e-01,  9.75630999e-01],\n",
              "       [-2.04325169e-01,  6.04956388e-01],\n",
              "       [ 9.33908880e-01, -3.05834591e-01],\n",
              "       [-2.43170440e-01,  9.77632284e-01],\n",
              "       [ 8.29649031e-01, -4.54413652e-01],\n",
              "       [-1.72782481e-01,  8.83339345e-01],\n",
              "       [ 1.13715100e+00, -2.99144298e-01],\n",
              "       [-2.78560042e-01,  8.05670440e-01],\n",
              "       [ 8.96241307e-01, -8.61107409e-02],\n",
              "       [ 8.50137532e-01, -2.88047969e-01],\n",
              "       [-4.48745675e-02,  8.51089239e-01],\n",
              "       [-2.83392370e-01,  7.43932962e-01],\n",
              "       [-3.04523110e-01,  7.88030982e-01],\n",
              "       [ 8.74938250e-01, -4.65080328e-02],\n",
              "       [-1.94028839e-01,  9.35866833e-01],\n",
              "       [ 9.78970110e-01, -2.21336991e-01],\n",
              "       [-1.15300864e-01,  5.37337244e-01],\n",
              "       [ 8.92237604e-01, -2.14111298e-01],\n",
              "       [-2.14346468e-01,  8.18070531e-01],\n",
              "       [-3.52684379e-01,  8.34421813e-01],\n",
              "       [-2.09945850e-02,  7.69340754e-01],\n",
              "       [-1.82181016e-01,  7.98348069e-01],\n",
              "       [-2.17413828e-01,  9.18197811e-01],\n",
              "       [ 9.19759750e-01, -1.66107416e-01],\n",
              "       [ 9.66415882e-01, -2.81305075e-01],\n",
              "       [ 8.50602090e-01, -3.46030414e-01],\n",
              "       [ 8.23692560e-01, -2.00954214e-01],\n",
              "       [ 8.63523006e-01, -2.21215263e-01],\n",
              "       [-1.46662325e-01,  8.35862637e-01],\n",
              "       [ 7.95042455e-01, -2.07528397e-01],\n",
              "       [ 8.89494240e-01, -1.45855621e-01],\n",
              "       [-3.39555144e-01,  7.77775586e-01],\n",
              "       [ 9.73988891e-01, -2.80368686e-01],\n",
              "       [-3.74219388e-01,  1.03418565e+00],\n",
              "       [ 1.09168589e+00, -2.01131299e-01],\n",
              "       [-3.03541839e-01,  7.86061823e-01],\n",
              "       [-1.17617518e-01,  9.11176026e-01],\n",
              "       [-2.48074204e-01,  1.10178936e+00],\n",
              "       [-3.00406247e-01,  1.07240820e+00],\n",
              "       [ 9.65664983e-01, -6.15694486e-02],\n",
              "       [ 7.50937223e-01, -2.23843530e-01],\n",
              "       [-1.98919952e-01,  6.77587271e-01],\n",
              "       [-3.68382186e-01,  9.17959332e-01],\n",
              "       [ 1.27133119e+00, -4.80734110e-01],\n",
              "       [ 1.12237382e+00, -2.27313206e-01],\n",
              "       [ 1.02180266e+00, -2.68350631e-01],\n",
              "       [-9.55125093e-02,  6.03627145e-01],\n",
              "       [-5.15354037e-01,  1.12246799e+00],\n",
              "       [-1.01990670e-01,  6.53206706e-01],\n",
              "       [-3.00882638e-01,  9.15440083e-01],\n",
              "       [-3.27287018e-01,  8.43319893e-01],\n",
              "       [ 1.05114353e+00, -2.12679416e-01],\n",
              "       [-3.92425627e-01,  9.04749751e-01],\n",
              "       [-4.02717859e-01,  8.72816682e-01],\n",
              "       [-4.75102693e-01,  1.11590612e+00],\n",
              "       [ 9.69644070e-01, -3.42492908e-01],\n",
              "       [-3.61319065e-01,  9.04387712e-01],\n",
              "       [-4.07547593e-01,  8.68942022e-01],\n",
              "       [-1.36027828e-01,  9.05532181e-01],\n",
              "       [-2.15117574e-01,  1.02371764e+00],\n",
              "       [-2.68418014e-01,  9.59001720e-01],\n",
              "       [ 1.06273150e+00, -4.04480815e-01],\n",
              "       [-2.60194510e-01,  7.55037308e-01],\n",
              "       [ 7.70369828e-01,  1.70418303e-02],\n",
              "       [-3.24310392e-01,  9.93353426e-01],\n",
              "       [-3.51152420e-02,  6.20080888e-01],\n",
              "       [ 1.04600692e+00, -2.88656741e-01],\n",
              "       [ 8.27492952e-01, -1.22911125e-01],\n",
              "       [ 1.04666281e+00, -2.07734644e-01],\n",
              "       [ 9.26153064e-01, -2.17682377e-01],\n",
              "       [-5.41484319e-02,  6.92595124e-01],\n",
              "       [ 7.22524107e-01, -3.39883983e-01],\n",
              "       [ 9.54550147e-01, -4.28944856e-01],\n",
              "       [ 1.18075621e+00, -5.83507657e-01],\n",
              "       [-5.22010140e-02,  8.64723444e-01],\n",
              "       [-1.23621128e-01,  9.66484547e-01],\n",
              "       [-2.83208579e-01,  9.28123236e-01],\n",
              "       [ 8.66893768e-01, -4.16431665e-01],\n",
              "       [-4.89325196e-01,  9.23735321e-01],\n",
              "       [-3.68549377e-01,  8.86878610e-01],\n",
              "       [-2.35099658e-01,  7.04314530e-01],\n",
              "       [-6.23396516e-01,  1.18671489e+00],\n",
              "       [ 6.47748888e-01,  5.63274957e-02],\n",
              "       [-3.68602306e-01,  8.36134493e-01],\n",
              "       [-1.40261605e-01,  9.75718081e-01],\n",
              "       [ 9.67852950e-01, -2.51946241e-01],\n",
              "       [-2.78896719e-01,  5.94672382e-01],\n",
              "       [ 6.63145185e-01,  6.75690919e-02],\n",
              "       [ 8.22133720e-01,  1.39531508e-01],\n",
              "       [-1.69948474e-01,  6.37561202e-01],\n",
              "       [-3.54905725e-01,  5.70162654e-01],\n",
              "       [ 1.03562486e+00, -2.84366459e-01],\n",
              "       [-7.09391683e-02,  5.15339553e-01],\n",
              "       [ 8.92998338e-01, -3.20316590e-02],\n",
              "       [ 9.95424092e-01, -2.23616496e-01],\n",
              "       [-6.62307143e-02,  7.02344000e-01],\n",
              "       [-2.95523077e-01,  4.81023073e-01],\n",
              "       [ 9.49630082e-01, -1.59279272e-01],\n",
              "       [-2.78532803e-01,  7.11162567e-01],\n",
              "       [-5.42605370e-02,  8.28880131e-01],\n",
              "       [-2.74368107e-01,  7.61403382e-01],\n",
              "       [-3.45482588e-01,  8.45488608e-01],\n",
              "       [-2.16181174e-01,  7.78485477e-01],\n",
              "       [ 9.21460271e-01, -4.43330795e-01],\n",
              "       [ 1.07194245e+00, -2.64340669e-01],\n",
              "       [ 9.24086630e-01, -4.51541573e-01],\n",
              "       [ 1.01231372e+00, -2.62256563e-01],\n",
              "       [-3.56455475e-01,  6.70447946e-01],\n",
              "       [-2.03865916e-01,  6.57378793e-01],\n",
              "       [ 8.96894932e-01,  4.73897718e-02],\n",
              "       [ 8.89073193e-01, -2.31597394e-01],\n",
              "       [ 1.06391084e+00, -2.11032331e-01]], dtype=float32)"
            ]
          },
          "metadata": {
            "tags": []
          },
          "execution_count": 59
        }
      ]
    },
    {
      "metadata": {
        "id": "PV8nayfmJUhg",
        "colab_type": "code",
        "colab": {
          "base_uri": "https://localhost:8080/",
          "height": 364
        },
        "outputId": "8651533e-937f-4878-b2fc-3ed87a32880c"
      },
      "cell_type": "code",
      "source": [
        "plt.scatter(output_2d[:,0],output_2d[:,1],c=df['Label'])"
      ],
      "execution_count": 60,
      "outputs": [
        {
          "output_type": "execute_result",
          "data": {
            "text/plain": [
              "<matplotlib.collections.PathCollection at 0x7f189b5ea390>"
            ]
          },
          "metadata": {
            "tags": []
          },
          "execution_count": 60
        },
        {
          "output_type": "display_data",
          "data": {
            "image/png": "[encoded data removed]",
            "text/plain": [
              "<Figure size 576x396 with 1 Axes>"
            ]
          },
          "metadata": {
            "tags": []
          }
        }
      ]
    },
    {
      "metadata": {
        "id": "RnIYlQGeJfe_",
        "colab_type": "code",
        "colab": {}
      },
      "cell_type": "code",
      "source": [
        "from tensorflow.examples.tutorials.mnist import input_data"
      ],
      "execution_count": 0,
      "outputs": []
    },
    {
      "metadata": {
        "id": "_iJxFhQmLhsl",
        "colab_type": "code",
        "colab": {
          "resources": {
            "http://localhost:8080/nbextensions/google.colab/files.js": {
              "data": "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",
              "ok": true,
              "headers": [
                [
                  "content-type",
                  "application/javascript"
                ]
              ],
              "status": 200,
              "status_text": ""
            }
          },
          "base_uri": "https://localhost:8080/",
          "height": 72
        },
        "outputId": "99d50dac-2a3a-4e24-b6db-ed669e17d22b"
      },
      "cell_type": "code",
      "source": [
        "uploaded=files.upload()"
      ],
      "execution_count": 65,
      "outputs": [
        {
          "output_type": "display_data",
          "data": {
            "text/html": [
              "\n",
              "     <input type=\"file\" id=\"files-0af12599-2e5d-42c5-9c89-e21b4cb88fdc\" name=\"files[]\" multiple disabled />\n",
              "     <output id=\"result-0af12599-2e5d-42c5-9c89-e21b4cb88fdc\">\n",
              "      Upload widget is only available when the cell has been executed in the\n",
              "      current browser session. Please rerun this cell to enable.\n",
              "      </output>\n",
              "      <script src=\"/nbextensions/google.colab/files.js\"></script> "
            ],
            "text/plain": [
              "<IPython.core.display.HTML object>"
            ]
          },
          "metadata": {
            "tags": []
          }
        },
        {
          "output_type": "stream",
          "text": [
            "Saving t10k-images-idx3-ubyte.gz to t10k-images-idx3-ubyte.gz\n"
          ],
          "name": "stdout"
        }
      ]
    },
    {
      "metadata": {
        "id": "Qtpm0OSKLnVP",
        "colab_type": "code",
        "colab": {
          "resources": {
            "http://localhost:8080/nbextensions/google.colab/files.js": {
              "data": "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",
              "ok": true,
              "headers": [
                [
                  "content-type",
                  "application/javascript"
                ]
              ],
              "status": 200,
              "status_text": ""
            }
          },
          "base_uri": "https://localhost:8080/",
          "height": 72
        },
        "outputId": "9170e1c2-4ad3-4ee3-da18-284aed096ef9"
      },
      "cell_type": "code",
      "source": [
        "uploaded=files.upload()"
      ],
      "execution_count": 66,
      "outputs": [
        {
          "output_type": "display_data",
          "data": {
            "text/html": [
              "\n",
              "     <input type=\"file\" id=\"files-e83ad9c8-8e7b-432f-a07a-d7025b96ca3e\" name=\"files[]\" multiple disabled />\n",
              "     <output id=\"result-e83ad9c8-8e7b-432f-a07a-d7025b96ca3e\">\n",
              "      Upload widget is only available when the cell has been executed in the\n",
              "      current browser session. Please rerun this cell to enable.\n",
              "      </output>\n",
              "      <script src=\"/nbextensions/google.colab/files.js\"></script> "
            ],
            "text/plain": [
              "<IPython.core.display.HTML object>"
            ]
          },
          "metadata": {
            "tags": []
          }
        },
        {
          "output_type": "stream",
          "text": [
            "Saving t10k-labels-idx1-ubyte.gz to t10k-labels-idx1-ubyte.gz\n"
          ],
          "name": "stdout"
        }
      ]
    },
    {
      "metadata": {
        "id": "oJWJnO_UMPK5",
        "colab_type": "code",
        "colab": {
          "resources": {
            "http://localhost:8080/nbextensions/google.colab/files.js": {
              "data": "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",
              "ok": true,
              "headers": [
                [
                  "content-type",
                  "application/javascript"
                ]
              ],
              "status": 200,
              "status_text": ""
            }
          },
          "base_uri": "https://localhost:8080/",
          "height": 72
        },
        "outputId": "f9f3dedd-2336-4809-eeb7-f95f5b0112e1"
      },
      "cell_type": "code",
      "source": [
        "uploaded=files.upload()"
      ],
      "execution_count": 0,
      "outputs": [
        {
          "output_type": "display_data",
          "data": {
            "text/html": [
              "\n",
              "     <input type=\"file\" id=\"files-4402702e-260d-433a-91eb-0225e1ba1fb7\" name=\"files[]\" multiple disabled />\n",
              "     <output id=\"result-4402702e-260d-433a-91eb-0225e1ba1fb7\">\n",
              "      Upload widget is only available when the cell has been executed in the\n",
              "      current browser session. Please rerun this cell to enable.\n",
              "      </output>\n",
              "      <script src=\"/nbextensions/google.colab/files.js\"></script> "
            ],
            "text/plain": [
              "<IPython.core.display.HTML object>"
            ]
          },
          "metadata": {
            "tags": []
          }
        },
        {
          "output_type": "stream",
          "text": [
            "Saving train-images-idx3-ubyte.gz to train-images-idx3-ubyte.gz\n"
          ],
          "name": "stdout"
        }
      ]
    },
    {
      "metadata": {
        "id": "A_RJ6yyMMY4A",
        "colab_type": "code",
        "colab": {}
      },
      "cell_type": "code",
      "source": [
        "uploaded=files.upload()"
      ],
      "execution_count": 0,
      "outputs": []
    }
  ]
}