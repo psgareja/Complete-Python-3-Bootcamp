{
  "nbformat": 4,
  "nbformat_minor": 0,
  "metadata": {
    "colab": {
      "name": "Untitled1.ipynb",
      "version": "0.3.2",
      "provenance": [],
      "include_colab_link": true
    },
    "kernelspec": {
      "name": "python3",
      "display_name": "Python 3"
    },
    "accelerator": "GPU"
  },
  "cells": [
    {
      "cell_type": "markdown",
      "metadata": {
        "id": "view-in-github",
        "colab_type": "text"
      },
      "source": [
        "<a href=\"https://colab.research.google.com/github/psgareja/Complete-Python-3-Bootcamp/blob/master/googlestockpriceprediction.ipynb\" target=\"_parent\"><img src=\"https://colab.research.google.com/assets/colab-badge.svg\" alt=\"Open In Colab\"/></a>"
      ]
    },
    {
      "metadata": {
        "id": "zf15i3BLXwGe",
        "colab_type": "code",
        "colab": {}
      },
      "cell_type": "code",
      "source": [
        "import numpy as np\n",
        "import matplotlib.pyplot as plt\n",
        "import pandas as pd"
      ],
      "execution_count": 0,
      "outputs": []
    },
    {
      "metadata": {
        "id": "1M5AskdmX3ss",
        "colab_type": "code",
        "colab": {}
      },
      "cell_type": "code",
      "source": [
        "from google.colab import files"
      ],
      "execution_count": 0,
      "outputs": []
    },
    {
      "metadata": {
        "id": "EQ0_8NtRZS42",
        "colab_type": "code",
        "outputId": "90e78a40-7112-400d-8374-04543f34a986",
        "colab": {
          "resources": {
            "http://localhost:8080/nbextensions/google.colab/files.js": {
              "data": "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",
              "ok": true,
              "headers": [
                [
                  "content-type",
                  "application/javascript"
                ]
              ],
              "status": 200,
              "status_text": ""
            }
          },
          "base_uri": "https://localhost:8080/",
          "height": 72
        }
      },
      "cell_type": "code",
      "source": [
        "uploaded=files.upload()"
      ],
      "execution_count": 0,
      "outputs": [
        {
          "output_type": "display_data",
          "data": {
            "text/html": [
              "\n",
              "     <input type=\"file\" id=\"files-d7f7b42b-8b00-4d5a-a568-b7ebff1dc3ec\" name=\"files[]\" multiple disabled />\n",
              "     <output id=\"result-d7f7b42b-8b00-4d5a-a568-b7ebff1dc3ec\">\n",
              "      Upload widget is only available when the cell has been executed in the\n",
              "      current browser session. Please rerun this cell to enable.\n",
              "      </output>\n",
              "      <script src=\"/nbextensions/google.colab/files.js\"></script> "
            ],
            "text/plain": [
              "<IPython.core.display.HTML object>"
            ]
          },
          "metadata": {
            "tags": []
          }
        },
        {
          "output_type": "stream",
          "text": [
            "Saving Google_Stock_Price_Test.csv to Google_Stock_Price_Test.csv\n"
          ],
          "name": "stdout"
        }
      ]
    },
    {
      "metadata": {
        "id": "EaZTwjKqZdlN",
        "colab_type": "code",
        "colab": {}
      },
      "cell_type": "code",
      "source": [
        "#import the data set"
      ],
      "execution_count": 0,
      "outputs": []
    },
    {
      "metadata": {
        "id": "FlPNr1gdaJFW",
        "colab_type": "code",
        "outputId": "a4de2082-6dbc-4a73-eb2c-3ebdfbb6fd41",
        "colab": {
          "resources": {
            "http://localhost:8080/nbextensions/google.colab/files.js": {
              "data": "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",
              "ok": true,
              "headers": [
                [
                  "content-type",
                  "application/javascript"
                ]
              ],
              "status": 200,
              "status_text": ""
            }
          },
          "base_uri": "https://localhost:8080/",
          "height": 72
        }
      },
      "cell_type": "code",
      "source": [
        "uploaded=files.upload()"
      ],
      "execution_count": 0,
      "outputs": [
        {
          "output_type": "display_data",
          "data": {
            "text/html": [
              "\n",
              "     <input type=\"file\" id=\"files-faabfc82-2f0a-41c5-995f-a4edbad58c5b\" name=\"files[]\" multiple disabled />\n",
              "     <output id=\"result-faabfc82-2f0a-41c5-995f-a4edbad58c5b\">\n",
              "      Upload widget is only available when the cell has been executed in the\n",
              "      current browser session. Please rerun this cell to enable.\n",
              "      </output>\n",
              "      <script src=\"/nbextensions/google.colab/files.js\"></script> "
            ],
            "text/plain": [
              "<IPython.core.display.HTML object>"
            ]
          },
          "metadata": {
            "tags": []
          }
        },
        {
          "output_type": "stream",
          "text": [
            "Saving Google_Stock_Price_Train.csv to Google_Stock_Price_Train.csv\n"
          ],
          "name": "stdout"
        }
      ]
    },
    {
      "metadata": {
        "id": "jTVcUPTNamch",
        "colab_type": "code",
        "colab": {}
      },
      "cell_type": "code",
      "source": [
        "#importing the trainig set"
      ],
      "execution_count": 0,
      "outputs": []
    },
    {
      "metadata": {
        "id": "h9Pf6PISa9zQ",
        "colab_type": "code",
        "colab": {}
      },
      "cell_type": "code",
      "source": [
        "trainig_set=pd.read_csv('Google_Stock_Price_Train.csv')"
      ],
      "execution_count": 0,
      "outputs": []
    },
    {
      "metadata": {
        "id": "77R1oVo3bSEN",
        "colab_type": "code",
        "outputId": "57654549-f53b-47f0-b3ab-ee64371a0d2e",
        "colab": {
          "base_uri": "https://localhost:8080/",
          "height": 204
        }
      },
      "cell_type": "code",
      "source": [
        "trainig_set.head()"
      ],
      "execution_count": 0,
      "outputs": [
        {
          "output_type": "execute_result",
          "data": {
            "text/html": [
              "<div>\n",
              "<style scoped>\n",
              "    .dataframe tbody tr th:only-of-type {\n",
              "        vertical-align: middle;\n",
              "    }\n",
              "\n",
              "    .dataframe tbody tr th {\n",
              "        vertical-align: top;\n",
              "    }\n",
              "\n",
              "    .dataframe thead th {\n",
              "        text-align: right;\n",
              "    }\n",
              "</style>\n",
              "<table border=\"1\" class=\"dataframe\">\n",
              "  <thead>\n",
              "    <tr style=\"text-align: right;\">\n",
              "      <th></th>\n",
              "      <th>Date</th>\n",
              "      <th>Open</th>\n",
              "      <th>High</th>\n",
              "      <th>Low</th>\n",
              "      <th>Close</th>\n",
              "      <th>Volume</th>\n",
              "    </tr>\n",
              "  </thead>\n",
              "  <tbody>\n",
              "    <tr>\n",
              "      <th>0</th>\n",
              "      <td>1/3/2012</td>\n",
              "      <td>325.25</td>\n",
              "      <td>332.83</td>\n",
              "      <td>324.97</td>\n",
              "      <td>663.59</td>\n",
              "      <td>7,380,500</td>\n",
              "    </tr>\n",
              "    <tr>\n",
              "      <th>1</th>\n",
              "      <td>1/4/2012</td>\n",
              "      <td>331.27</td>\n",
              "      <td>333.87</td>\n",
              "      <td>329.08</td>\n",
              "      <td>666.45</td>\n",
              "      <td>5,749,400</td>\n",
              "    </tr>\n",
              "    <tr>\n",
              "      <th>2</th>\n",
              "      <td>1/5/2012</td>\n",
              "      <td>329.83</td>\n",
              "      <td>330.75</td>\n",
              "      <td>326.89</td>\n",
              "      <td>657.21</td>\n",
              "      <td>6,590,300</td>\n",
              "    </tr>\n",
              "    <tr>\n",
              "      <th>3</th>\n",
              "      <td>1/6/2012</td>\n",
              "      <td>328.34</td>\n",
              "      <td>328.77</td>\n",
              "      <td>323.68</td>\n",
              "      <td>648.24</td>\n",
              "      <td>5,405,900</td>\n",
              "    </tr>\n",
              "    <tr>\n",
              "      <th>4</th>\n",
              "      <td>1/9/2012</td>\n",
              "      <td>322.04</td>\n",
              "      <td>322.29</td>\n",
              "      <td>309.46</td>\n",
              "      <td>620.76</td>\n",
              "      <td>11,688,800</td>\n",
              "    </tr>\n",
              "  </tbody>\n",
              "</table>\n",
              "</div>"
            ],
            "text/plain": [
              "       Date    Open    High     Low   Close      Volume\n",
              "0  1/3/2012  325.25  332.83  324.97  663.59   7,380,500\n",
              "1  1/4/2012  331.27  333.87  329.08  666.45   5,749,400\n",
              "2  1/5/2012  329.83  330.75  326.89  657.21   6,590,300\n",
              "3  1/6/2012  328.34  328.77  323.68  648.24   5,405,900\n",
              "4  1/9/2012  322.04  322.29  309.46  620.76  11,688,800"
            ]
          },
          "metadata": {
            "tags": []
          },
          "execution_count": 10
        }
      ]
    },
    {
      "metadata": {
        "id": "yrbiBebkbWaU",
        "colab_type": "code",
        "colab": {}
      },
      "cell_type": "code",
      "source": [
        "trainig_set=trainig_set.iloc[:,1:2].values"
      ],
      "execution_count": 0,
      "outputs": []
    },
    {
      "metadata": {
        "id": "Xj0J4b8mb-MS",
        "colab_type": "code",
        "outputId": "5cf2c667-c15c-40de-e6f5-76b675d83489",
        "colab": {
          "base_uri": "https://localhost:8080/",
          "height": 136
        }
      },
      "cell_type": "code",
      "source": [
        "trainig_set"
      ],
      "execution_count": 0,
      "outputs": [
        {
          "output_type": "execute_result",
          "data": {
            "text/plain": [
              "array([[325.25],\n",
              "       [331.27],\n",
              "       [329.83],\n",
              "       ...,\n",
              "       [793.7 ],\n",
              "       [783.33],\n",
              "       [782.75]])"
            ]
          },
          "metadata": {
            "tags": []
          },
          "execution_count": 12
        }
      ]
    },
    {
      "metadata": {
        "id": "YqYzJ2AhdSQ0",
        "colab_type": "code",
        "colab": {}
      },
      "cell_type": "code",
      "source": [
        "from sklearn.preprocessing import MinMaxScaler"
      ],
      "execution_count": 0,
      "outputs": []
    },
    {
      "metadata": {
        "id": "NNrtkDjzeBxe",
        "colab_type": "code",
        "colab": {}
      },
      "cell_type": "code",
      "source": [
        "sc=MinMaxScaler()"
      ],
      "execution_count": 0,
      "outputs": []
    },
    {
      "metadata": {
        "id": "YbVQQGWyeUkI",
        "colab_type": "code",
        "colab": {}
      },
      "cell_type": "code",
      "source": [
        "trainig_set=sc.fit_transform(trainig_set)"
      ],
      "execution_count": 0,
      "outputs": []
    },
    {
      "metadata": {
        "id": "WAdhVK-EeyeJ",
        "colab_type": "code",
        "colab": {}
      },
      "cell_type": "code",
      "source": [
        "x_train=trainig_set[0:1257]"
      ],
      "execution_count": 0,
      "outputs": []
    },
    {
      "metadata": {
        "id": "QeT5HS7mgwOi",
        "colab_type": "code",
        "colab": {}
      },
      "cell_type": "code",
      "source": [
        "y_train=trainig_set[1:1258]"
      ],
      "execution_count": 0,
      "outputs": []
    },
    {
      "metadata": {
        "id": "HeCC4D08hAog",
        "colab_type": "code",
        "colab": {}
      },
      "cell_type": "code",
      "source": [
        "x_train=np.reshape(x_train,(1257,1,1))"
      ],
      "execution_count": 0,
      "outputs": []
    },
    {
      "metadata": {
        "id": "Z9vSwjdQjIVX",
        "colab_type": "code",
        "outputId": "fde509b9-1491-415a-eeb5-e4d7e26e07d9",
        "colab": {
          "base_uri": "https://localhost:8080/",
          "height": 34
        }
      },
      "cell_type": "code",
      "source": [
        "from keras.models import Sequential\n",
        "from keras.layers import Dense\n",
        "from keras.layers import LSTM\n",
        "from keras.layers import Dropout\n"
      ],
      "execution_count": 0,
      "outputs": [
        {
          "output_type": "stream",
          "text": [
            "Using TensorFlow backend.\n"
          ],
          "name": "stderr"
        }
      ]
    },
    {
      "metadata": {
        "id": "N6OOQZ5zjnFZ",
        "colab_type": "code",
        "colab": {}
      },
      "cell_type": "code",
      "source": [
        "regressor=Sequential()"
      ],
      "execution_count": 0,
      "outputs": []
    },
    {
      "metadata": {
        "id": "TMhhv9rij_vY",
        "colab_type": "code",
        "colab": {}
      },
      "cell_type": "code",
      "source": [
        "regressor.add(LSTM(units=4,activation='sigmoid',input_shape=(None,1)))"
      ],
      "execution_count": 0,
      "outputs": []
    },
    {
      "metadata": {
        "id": "uwMrpocCl5T9",
        "colab_type": "code",
        "colab": {}
      },
      "cell_type": "code",
      "source": [
        "regressor.add(Dense(units=1))"
      ],
      "execution_count": 0,
      "outputs": []
    },
    {
      "metadata": {
        "id": "WTaLmA9lmmYg",
        "colab_type": "code",
        "colab": {}
      },
      "cell_type": "code",
      "source": [
        "regressor.compile(optimizer='adam',loss='mean_squared_error')"
      ],
      "execution_count": 0,
      "outputs": []
    },
    {
      "metadata": {
        "id": "Y5HwVwJOpPRW",
        "colab_type": "code",
        "outputId": "272bfb0e-05f9-4bd9-a7cb-dc8ccbdf50be",
        "colab": {
          "base_uri": "https://localhost:8080/",
          "height": 6834
        }
      },
      "cell_type": "code",
      "source": [
        "regressor.fit(x_train,y_train,batch_size=32,epochs=200)"
      ],
      "execution_count": 0,
      "outputs": [
        {
          "output_type": "stream",
          "text": [
            "Epoch 1/200\n",
            "1257/1257 [==============================] - 3s 2ms/step - loss: 0.1865\n",
            "Epoch 2/200\n",
            "1257/1257 [==============================] - 0s 282us/step - loss: 0.1293\n",
            "Epoch 3/200\n",
            "1257/1257 [==============================] - 0s 275us/step - loss: 0.0959\n",
            "Epoch 4/200\n",
            "1257/1257 [==============================] - 0s 276us/step - loss: 0.0784\n",
            "Epoch 5/200\n",
            "1257/1257 [==============================] - 0s 266us/step - loss: 0.0703\n",
            "Epoch 6/200\n",
            "1257/1257 [==============================] - 0s 278us/step - loss: 0.0665\n",
            "Epoch 7/200\n",
            "1257/1257 [==============================] - 0s 284us/step - loss: 0.0644\n",
            "Epoch 8/200\n",
            "1257/1257 [==============================] - 0s 269us/step - loss: 0.0629\n",
            "Epoch 9/200\n",
            "1257/1257 [==============================] - 0s 287us/step - loss: 0.0616\n",
            "Epoch 10/200\n",
            "1257/1257 [==============================] - 0s 291us/step - loss: 0.0602\n",
            "Epoch 11/200\n",
            "1257/1257 [==============================] - 0s 279us/step - loss: 0.0587\n",
            "Epoch 12/200\n",
            "1257/1257 [==============================] - 0s 282us/step - loss: 0.0573\n",
            "Epoch 13/200\n",
            "1257/1257 [==============================] - 0s 266us/step - loss: 0.0557\n",
            "Epoch 14/200\n",
            "1257/1257 [==============================] - 0s 266us/step - loss: 0.0542\n",
            "Epoch 15/200\n",
            "1257/1257 [==============================] - 0s 280us/step - loss: 0.0526\n",
            "Epoch 16/200\n",
            "1257/1257 [==============================] - 0s 267us/step - loss: 0.0509\n",
            "Epoch 17/200\n",
            "1257/1257 [==============================] - 0s 272us/step - loss: 0.0493\n",
            "Epoch 18/200\n",
            "1257/1257 [==============================] - 0s 293us/step - loss: 0.0476\n",
            "Epoch 19/200\n",
            "1257/1257 [==============================] - 0s 282us/step - loss: 0.0459\n",
            "Epoch 20/200\n",
            "1257/1257 [==============================] - 0s 263us/step - loss: 0.0441\n",
            "Epoch 21/200\n",
            "1257/1257 [==============================] - 0s 288us/step - loss: 0.0423\n",
            "Epoch 22/200\n",
            "1257/1257 [==============================] - 0s 284us/step - loss: 0.0406\n",
            "Epoch 23/200\n",
            "1257/1257 [==============================] - 0s 284us/step - loss: 0.0387\n",
            "Epoch 24/200\n",
            "1257/1257 [==============================] - 0s 282us/step - loss: 0.0370\n",
            "Epoch 25/200\n",
            "1257/1257 [==============================] - 0s 280us/step - loss: 0.0351\n",
            "Epoch 26/200\n",
            "1257/1257 [==============================] - 0s 286us/step - loss: 0.0333\n",
            "Epoch 27/200\n",
            "1257/1257 [==============================] - 0s 266us/step - loss: 0.0315\n",
            "Epoch 28/200\n",
            "1257/1257 [==============================] - 0s 279us/step - loss: 0.0297\n",
            "Epoch 29/200\n",
            "1257/1257 [==============================] - 0s 280us/step - loss: 0.0280\n",
            "Epoch 30/200\n",
            "1257/1257 [==============================] - 0s 280us/step - loss: 0.0262\n",
            "Epoch 31/200\n",
            "1257/1257 [==============================] - 0s 279us/step - loss: 0.0245\n",
            "Epoch 32/200\n",
            "1257/1257 [==============================] - 0s 300us/step - loss: 0.0228\n",
            "Epoch 33/200\n",
            "1257/1257 [==============================] - 0s 280us/step - loss: 0.0211\n",
            "Epoch 34/200\n",
            "1257/1257 [==============================] - 0s 279us/step - loss: 0.0195\n",
            "Epoch 35/200\n",
            "1257/1257 [==============================] - 0s 286us/step - loss: 0.0179\n",
            "Epoch 36/200\n",
            "1257/1257 [==============================] - 0s 275us/step - loss: 0.0164\n",
            "Epoch 37/200\n",
            "1257/1257 [==============================] - 0s 275us/step - loss: 0.0150\n",
            "Epoch 38/200\n",
            "1257/1257 [==============================] - 0s 278us/step - loss: 0.0136\n",
            "Epoch 39/200\n",
            "1257/1257 [==============================] - 0s 280us/step - loss: 0.0123\n",
            "Epoch 40/200\n",
            "1257/1257 [==============================] - 0s 276us/step - loss: 0.0111\n",
            "Epoch 41/200\n",
            "1257/1257 [==============================] - 0s 290us/step - loss: 0.0099\n",
            "Epoch 42/200\n",
            "1257/1257 [==============================] - 0s 281us/step - loss: 0.0088\n",
            "Epoch 43/200\n",
            "1257/1257 [==============================] - 0s 276us/step - loss: 0.0078\n",
            "Epoch 44/200\n",
            "1257/1257 [==============================] - 0s 288us/step - loss: 0.0069\n",
            "Epoch 45/200\n",
            "1257/1257 [==============================] - 0s 281us/step - loss: 0.0060\n",
            "Epoch 46/200\n",
            "1257/1257 [==============================] - 0s 279us/step - loss: 0.0052\n",
            "Epoch 47/200\n",
            "1257/1257 [==============================] - 0s 284us/step - loss: 0.0045\n",
            "Epoch 48/200\n",
            "1257/1257 [==============================] - 0s 283us/step - loss: 0.0039\n",
            "Epoch 49/200\n",
            "1257/1257 [==============================] - 0s 286us/step - loss: 0.0034\n",
            "Epoch 50/200\n",
            "1257/1257 [==============================] - 0s 288us/step - loss: 0.0029\n",
            "Epoch 51/200\n",
            "1257/1257 [==============================] - 0s 269us/step - loss: 0.0025\n",
            "Epoch 52/200\n",
            "1257/1257 [==============================] - 0s 280us/step - loss: 0.0021\n",
            "Epoch 53/200\n",
            "1257/1257 [==============================] - 0s 282us/step - loss: 0.0018\n",
            "Epoch 54/200\n",
            "1257/1257 [==============================] - 0s 281us/step - loss: 0.0015\n",
            "Epoch 55/200\n",
            "1257/1257 [==============================] - 0s 282us/step - loss: 0.0013\n",
            "Epoch 56/200\n",
            "1257/1257 [==============================] - 0s 269us/step - loss: 0.0011\n",
            "Epoch 57/200\n",
            "1257/1257 [==============================] - 0s 276us/step - loss: 9.0569e-04\n",
            "Epoch 58/200\n",
            "1257/1257 [==============================] - 0s 286us/step - loss: 7.6977e-04\n",
            "Epoch 59/200\n",
            "1257/1257 [==============================] - 0s 279us/step - loss: 6.6051e-04\n",
            "Epoch 60/200\n",
            "1257/1257 [==============================] - 0s 273us/step - loss: 5.7078e-04\n",
            "Epoch 61/200\n",
            "1257/1257 [==============================] - 0s 290us/step - loss: 4.9882e-04\n",
            "Epoch 62/200\n",
            "1257/1257 [==============================] - 0s 282us/step - loss: 4.4031e-04\n",
            "Epoch 63/200\n",
            "1257/1257 [==============================] - 0s 278us/step - loss: 3.9511e-04\n",
            "Epoch 64/200\n",
            "1257/1257 [==============================] - 0s 291us/step - loss: 3.5948e-04\n",
            "Epoch 65/200\n",
            "1257/1257 [==============================] - 0s 279us/step - loss: 3.3171e-04\n",
            "Epoch 66/200\n",
            "1257/1257 [==============================] - 0s 287us/step - loss: 3.0990e-04\n",
            "Epoch 67/200\n",
            "1257/1257 [==============================] - 0s 286us/step - loss: 2.9395e-04\n",
            "Epoch 68/200\n",
            "1257/1257 [==============================] - 0s 296us/step - loss: 2.8041e-04\n",
            "Epoch 69/200\n",
            "1257/1257 [==============================] - 0s 282us/step - loss: 2.7081e-04\n",
            "Epoch 70/200\n",
            "1257/1257 [==============================] - 0s 291us/step - loss: 2.6350e-04\n",
            "Epoch 71/200\n",
            "1257/1257 [==============================] - 0s 277us/step - loss: 2.5803e-04\n",
            "Epoch 72/200\n",
            "1257/1257 [==============================] - 0s 280us/step - loss: 2.5507e-04\n",
            "Epoch 73/200\n",
            "1257/1257 [==============================] - 0s 283us/step - loss: 2.5185e-04\n",
            "Epoch 74/200\n",
            "1257/1257 [==============================] - 0s 286us/step - loss: 2.4993e-04\n",
            "Epoch 75/200\n",
            "1257/1257 [==============================] - 0s 278us/step - loss: 2.4800e-04\n",
            "Epoch 76/200\n",
            "1257/1257 [==============================] - 0s 276us/step - loss: 2.4705e-04\n",
            "Epoch 77/200\n",
            "1257/1257 [==============================] - 0s 283us/step - loss: 2.4643e-04\n",
            "Epoch 78/200\n",
            "1257/1257 [==============================] - 0s 288us/step - loss: 2.4664e-04\n",
            "Epoch 79/200\n",
            "1257/1257 [==============================] - 0s 264us/step - loss: 2.4580e-04\n",
            "Epoch 80/200\n",
            "1257/1257 [==============================] - 0s 288us/step - loss: 2.4522e-04\n",
            "Epoch 81/200\n",
            "1257/1257 [==============================] - 0s 290us/step - loss: 2.4492e-04\n",
            "Epoch 82/200\n",
            "1257/1257 [==============================] - 0s 277us/step - loss: 2.4576e-04\n",
            "Epoch 83/200\n",
            "1257/1257 [==============================] - 0s 278us/step - loss: 2.4545e-04\n",
            "Epoch 84/200\n",
            "1257/1257 [==============================] - 0s 287us/step - loss: 2.4469e-04\n",
            "Epoch 85/200\n",
            "1257/1257 [==============================] - 0s 269us/step - loss: 2.4670e-04\n",
            "Epoch 86/200\n",
            "1257/1257 [==============================] - 0s 267us/step - loss: 2.4491e-04\n",
            "Epoch 87/200\n",
            "1257/1257 [==============================] - 0s 283us/step - loss: 2.4579e-04\n",
            "Epoch 88/200\n",
            "1257/1257 [==============================] - 0s 266us/step - loss: 2.4557e-04\n",
            "Epoch 89/200\n",
            "1257/1257 [==============================] - 0s 278us/step - loss: 2.4515e-04\n",
            "Epoch 90/200\n",
            "1257/1257 [==============================] - 0s 294us/step - loss: 2.4514e-04\n",
            "Epoch 91/200\n",
            "1257/1257 [==============================] - 0s 275us/step - loss: 2.4578e-04\n",
            "Epoch 92/200\n",
            "1257/1257 [==============================] - 0s 263us/step - loss: 2.4493e-04\n",
            "Epoch 93/200\n",
            "1257/1257 [==============================] - 0s 282us/step - loss: 2.4509e-04\n",
            "Epoch 94/200\n",
            "1257/1257 [==============================] - 0s 273us/step - loss: 2.4650e-04\n",
            "Epoch 95/200\n",
            "1257/1257 [==============================] - 0s 291us/step - loss: 2.4504e-04\n",
            "Epoch 96/200\n",
            "1257/1257 [==============================] - 0s 284us/step - loss: 2.4502e-04\n",
            "Epoch 97/200\n",
            "1257/1257 [==============================] - 0s 282us/step - loss: 2.4559e-04\n",
            "Epoch 98/200\n",
            "1257/1257 [==============================] - 0s 275us/step - loss: 2.4463e-04\n",
            "Epoch 99/200\n",
            "1257/1257 [==============================] - 0s 282us/step - loss: 2.4562e-04\n",
            "Epoch 100/200\n",
            "1257/1257 [==============================] - 0s 285us/step - loss: 2.4665e-04\n",
            "Epoch 101/200\n",
            "1257/1257 [==============================] - 0s 283us/step - loss: 2.4636e-04\n",
            "Epoch 102/200\n",
            "1257/1257 [==============================] - 0s 282us/step - loss: 2.4546e-04\n",
            "Epoch 103/200\n",
            "1257/1257 [==============================] - 0s 265us/step - loss: 2.4573e-04\n",
            "Epoch 104/200\n",
            "1257/1257 [==============================] - 0s 261us/step - loss: 2.4485e-04\n",
            "Epoch 105/200\n",
            "1257/1257 [==============================] - 0s 279us/step - loss: 2.4635e-04\n",
            "Epoch 106/200\n",
            "1257/1257 [==============================] - 0s 277us/step - loss: 2.4672e-04\n",
            "Epoch 107/200\n",
            "1257/1257 [==============================] - 0s 264us/step - loss: 2.4454e-04\n",
            "Epoch 108/200\n",
            "1257/1257 [==============================] - 0s 287us/step - loss: 2.4551e-04\n",
            "Epoch 109/200\n",
            "1257/1257 [==============================] - 0s 285us/step - loss: 2.4499e-04\n",
            "Epoch 110/200\n",
            "1257/1257 [==============================] - 0s 283us/step - loss: 2.4535e-04\n",
            "Epoch 111/200\n",
            "1257/1257 [==============================] - 0s 284us/step - loss: 2.4489e-04\n",
            "Epoch 112/200\n",
            "1257/1257 [==============================] - 0s 268us/step - loss: 2.4552e-04\n",
            "Epoch 113/200\n",
            "1257/1257 [==============================] - 0s 264us/step - loss: 2.4529e-04\n",
            "Epoch 114/200\n",
            "1257/1257 [==============================] - 0s 278us/step - loss: 2.4521e-04\n",
            "Epoch 115/200\n",
            "1257/1257 [==============================] - 0s 264us/step - loss: 2.4547e-04\n",
            "Epoch 116/200\n",
            "1257/1257 [==============================] - 0s 275us/step - loss: 2.4606e-04\n",
            "Epoch 117/200\n",
            "1257/1257 [==============================] - 0s 290us/step - loss: 2.4505e-04\n",
            "Epoch 118/200\n",
            "1257/1257 [==============================] - 0s 281us/step - loss: 2.4501e-04\n",
            "Epoch 119/200\n",
            "1257/1257 [==============================] - 0s 277us/step - loss: 2.4756e-04\n",
            "Epoch 120/200\n",
            "1257/1257 [==============================] - 0s 282us/step - loss: 2.4586e-04\n",
            "Epoch 121/200\n",
            "1257/1257 [==============================] - 0s 280us/step - loss: 2.4551e-04\n",
            "Epoch 122/200\n",
            "1257/1257 [==============================] - 0s 291us/step - loss: 2.4584e-04\n",
            "Epoch 123/200\n",
            "1257/1257 [==============================] - 0s 284us/step - loss: 2.4585e-04\n",
            "Epoch 124/200\n",
            "1257/1257 [==============================] - 0s 276us/step - loss: 2.4503e-04\n",
            "Epoch 125/200\n",
            "1257/1257 [==============================] - 0s 277us/step - loss: 2.4511e-04\n",
            "Epoch 126/200\n",
            "1257/1257 [==============================] - 0s 277us/step - loss: 2.4653e-04\n",
            "Epoch 127/200\n",
            "1257/1257 [==============================] - 0s 266us/step - loss: 2.4456e-04\n",
            "Epoch 128/200\n",
            "1257/1257 [==============================] - 0s 290us/step - loss: 2.4949e-04\n",
            "Epoch 129/200\n",
            "1257/1257 [==============================] - 0s 271us/step - loss: 2.4823e-04\n",
            "Epoch 130/200\n",
            "1257/1257 [==============================] - 0s 277us/step - loss: 2.4490e-04\n",
            "Epoch 131/200\n",
            "1257/1257 [==============================] - 0s 273us/step - loss: 2.4548e-04\n",
            "Epoch 132/200\n",
            "1257/1257 [==============================] - 0s 290us/step - loss: 2.4635e-04\n",
            "Epoch 133/200\n",
            "1257/1257 [==============================] - 0s 282us/step - loss: 2.4610e-04\n",
            "Epoch 134/200\n",
            "1257/1257 [==============================] - 0s 293us/step - loss: 2.4511e-04\n",
            "Epoch 135/200\n",
            "1257/1257 [==============================] - 0s 283us/step - loss: 2.4521e-04\n",
            "Epoch 136/200\n",
            "1257/1257 [==============================] - 0s 280us/step - loss: 2.4620e-04\n",
            "Epoch 137/200\n",
            "1257/1257 [==============================] - 0s 292us/step - loss: 2.4494e-04\n",
            "Epoch 138/200\n",
            "1257/1257 [==============================] - 0s 286us/step - loss: 2.4706e-04\n",
            "Epoch 139/200\n",
            "1257/1257 [==============================] - 0s 278us/step - loss: 2.4764e-04\n",
            "Epoch 140/200\n",
            "1257/1257 [==============================] - 0s 283us/step - loss: 2.4505e-04\n",
            "Epoch 141/200\n",
            "1257/1257 [==============================] - 0s 283us/step - loss: 2.4426e-04\n",
            "Epoch 142/200\n",
            "1257/1257 [==============================] - 0s 262us/step - loss: 2.4506e-04\n",
            "Epoch 143/200\n",
            "1257/1257 [==============================] - 0s 282us/step - loss: 2.4659e-04\n",
            "Epoch 144/200\n",
            "1257/1257 [==============================] - 0s 280us/step - loss: 2.4634e-04\n",
            "Epoch 145/200\n",
            "1257/1257 [==============================] - 0s 275us/step - loss: 2.4747e-04\n",
            "Epoch 146/200\n",
            "1257/1257 [==============================] - 0s 269us/step - loss: 2.4594e-04\n",
            "Epoch 147/200\n",
            "1257/1257 [==============================] - 0s 276us/step - loss: 2.4557e-04\n",
            "Epoch 148/200\n",
            "1257/1257 [==============================] - 0s 275us/step - loss: 2.4564e-04\n",
            "Epoch 149/200\n",
            "1257/1257 [==============================] - 0s 270us/step - loss: 2.4632e-04\n",
            "Epoch 150/200\n",
            "1257/1257 [==============================] - 0s 279us/step - loss: 2.4605e-04\n",
            "Epoch 151/200\n",
            "1257/1257 [==============================] - 0s 264us/step - loss: 2.4586e-04\n",
            "Epoch 152/200\n",
            "1257/1257 [==============================] - 0s 283us/step - loss: 2.4493e-04\n",
            "Epoch 153/200\n",
            "1257/1257 [==============================] - 0s 260us/step - loss: 2.4759e-04\n",
            "Epoch 154/200\n",
            "1257/1257 [==============================] - 0s 282us/step - loss: 2.4539e-04\n",
            "Epoch 155/200\n",
            "1257/1257 [==============================] - 0s 287us/step - loss: 2.4782e-04\n",
            "Epoch 156/200\n",
            "1257/1257 [==============================] - 0s 259us/step - loss: 2.4534e-04\n",
            "Epoch 157/200\n",
            "1257/1257 [==============================] - 0s 277us/step - loss: 2.4626e-04\n",
            "Epoch 158/200\n",
            "1257/1257 [==============================] - 0s 286us/step - loss: 2.4873e-04\n",
            "Epoch 159/200\n",
            "1257/1257 [==============================] - 0s 276us/step - loss: 2.4570e-04\n",
            "Epoch 160/200\n",
            "1257/1257 [==============================] - 0s 278us/step - loss: 2.4821e-04\n",
            "Epoch 161/200\n",
            "1257/1257 [==============================] - 0s 278us/step - loss: 2.4511e-04\n",
            "Epoch 162/200\n",
            "1257/1257 [==============================] - 0s 275us/step - loss: 2.4760e-04\n",
            "Epoch 163/200\n",
            "1257/1257 [==============================] - 0s 289us/step - loss: 2.4548e-04\n",
            "Epoch 164/200\n",
            "1257/1257 [==============================] - 0s 287us/step - loss: 2.4577e-04\n",
            "Epoch 165/200\n",
            "1257/1257 [==============================] - 0s 263us/step - loss: 2.4603e-04\n",
            "Epoch 166/200\n",
            "1257/1257 [==============================] - 0s 284us/step - loss: 2.4553e-04\n",
            "Epoch 167/200\n",
            "1257/1257 [==============================] - 0s 276us/step - loss: 2.4686e-04\n",
            "Epoch 168/200\n",
            "1257/1257 [==============================] - 0s 265us/step - loss: 2.4628e-04\n",
            "Epoch 169/200\n",
            "1257/1257 [==============================] - 0s 280us/step - loss: 2.4481e-04\n",
            "Epoch 170/200\n",
            "1257/1257 [==============================] - 0s 277us/step - loss: 2.4536e-04\n",
            "Epoch 171/200\n",
            "1257/1257 [==============================] - 0s 272us/step - loss: 2.4801e-04\n",
            "Epoch 172/200\n",
            "1257/1257 [==============================] - 0s 265us/step - loss: 2.4924e-04\n",
            "Epoch 173/200\n",
            "1257/1257 [==============================] - 0s 279us/step - loss: 2.4773e-04\n",
            "Epoch 174/200\n",
            "1257/1257 [==============================] - 0s 280us/step - loss: 2.4530e-04\n",
            "Epoch 175/200\n",
            "1257/1257 [==============================] - 0s 271us/step - loss: 2.4597e-04\n",
            "Epoch 176/200\n",
            "1257/1257 [==============================] - 0s 265us/step - loss: 2.5703e-04\n",
            "Epoch 177/200\n",
            "1257/1257 [==============================] - 0s 263us/step - loss: 2.4988e-04\n",
            "Epoch 178/200\n",
            "1257/1257 [==============================] - 0s 280us/step - loss: 2.4699e-04\n",
            "Epoch 179/200\n",
            "1257/1257 [==============================] - 0s 260us/step - loss: 2.4501e-04\n",
            "Epoch 180/200\n",
            "1257/1257 [==============================] - 0s 279us/step - loss: 2.4811e-04\n",
            "Epoch 181/200\n",
            "1257/1257 [==============================] - 0s 284us/step - loss: 2.4612e-04\n",
            "Epoch 182/200\n",
            "1257/1257 [==============================] - 0s 267us/step - loss: 2.4563e-04\n",
            "Epoch 183/200\n",
            "1257/1257 [==============================] - 0s 273us/step - loss: 2.4883e-04\n",
            "Epoch 184/200\n",
            "1257/1257 [==============================] - 0s 292us/step - loss: 2.4599e-04\n",
            "Epoch 185/200\n",
            "1257/1257 [==============================] - 0s 263us/step - loss: 2.4583e-04\n",
            "Epoch 186/200\n",
            "1257/1257 [==============================] - 0s 263us/step - loss: 2.4640e-04\n",
            "Epoch 187/200\n",
            "1257/1257 [==============================] - 0s 279us/step - loss: 2.4765e-04\n",
            "Epoch 188/200\n",
            "1257/1257 [==============================] - 0s 258us/step - loss: 2.4745e-04\n",
            "Epoch 189/200\n",
            "1257/1257 [==============================] - 0s 268us/step - loss: 2.4655e-04\n",
            "Epoch 190/200\n",
            "1257/1257 [==============================] - 0s 281us/step - loss: 2.5778e-04\n",
            "Epoch 191/200\n",
            "1257/1257 [==============================] - 0s 274us/step - loss: 2.5200e-04\n",
            "Epoch 192/200\n",
            "1257/1257 [==============================] - 0s 269us/step - loss: 2.4872e-04\n",
            "Epoch 193/200\n",
            "1257/1257 [==============================] - 0s 268us/step - loss: 2.4655e-04\n",
            "Epoch 194/200\n",
            "1257/1257 [==============================] - 0s 276us/step - loss: 2.4701e-04\n",
            "Epoch 195/200\n",
            "1257/1257 [==============================] - 0s 263us/step - loss: 2.4709e-04\n",
            "Epoch 196/200\n",
            "1257/1257 [==============================] - 0s 284us/step - loss: 2.5004e-04\n",
            "Epoch 197/200\n",
            "1257/1257 [==============================] - 0s 266us/step - loss: 2.4717e-04\n",
            "Epoch 198/200\n",
            "1257/1257 [==============================] - 0s 263us/step - loss: 2.4533e-04\n",
            "Epoch 199/200\n",
            "1257/1257 [==============================] - 0s 270us/step - loss: 2.5005e-04\n",
            "Epoch 200/200\n",
            "1257/1257 [==============================] - 0s 258us/step - loss: 2.4597e-04\n"
          ],
          "name": "stdout"
        },
        {
          "output_type": "execute_result",
          "data": {
            "text/plain": [
              "<keras.callbacks.History at 0x7ff8436ca978>"
            ]
          },
          "metadata": {
            "tags": []
          },
          "execution_count": 24
        }
      ]
    },
    {
      "metadata": {
        "id": "x9Lpw_gsqI96",
        "colab_type": "code",
        "colab": {}
      },
      "cell_type": "code",
      "source": [
        "test_set = pd.read_csv('Google_Stock_Price_Test.csv')\n",
        "real_stock_price = test_set.iloc[:, 1:2].values"
      ],
      "execution_count": 0,
      "outputs": []
    },
    {
      "metadata": {
        "id": "adnJs87UshT5",
        "colab_type": "code",
        "colab": {}
      },
      "cell_type": "code",
      "source": [
        "inputs=real_stock_price\n",
        "inputs=sc.transform(inputs)"
      ],
      "execution_count": 0,
      "outputs": []
    },
    {
      "metadata": {
        "id": "X-RsI7QpKPdZ",
        "colab_type": "code",
        "colab": {}
      },
      "cell_type": "code",
      "source": [
        "inputs=np.reshape(inputs,(20,1,1))"
      ],
      "execution_count": 0,
      "outputs": []
    },
    {
      "metadata": {
        "id": "8EtpoJCqLUgX",
        "colab_type": "code",
        "colab": {}
      },
      "cell_type": "code",
      "source": [
        "predicted_stock_price=regressor.predict(inputs)"
      ],
      "execution_count": 0,
      "outputs": []
    },
    {
      "metadata": {
        "id": "QmXNuf16Lm2l",
        "colab_type": "code",
        "outputId": "d7078c05-5716-4b6b-d01b-efc3bb90052e",
        "colab": {
          "base_uri": "https://localhost:8080/",
          "height": 357
        }
      },
      "cell_type": "code",
      "source": [
        "predicted_stock_price"
      ],
      "execution_count": 0,
      "outputs": [
        {
          "output_type": "execute_result",
          "data": {
            "text/plain": [
              "array([[0.9284431 ],\n",
              "       [0.94473773],\n",
              "       [0.9408505 ],\n",
              "       [0.9564917 ],\n",
              "       [0.9754342 ],\n",
              "       [0.97791374],\n",
              "       [0.97305596],\n",
              "       [0.976691  ],\n",
              "       [0.9772686 ],\n",
              "       [0.9765891 ],\n",
              "       [0.974432  ],\n",
              "       [0.9732599 ],\n",
              "       [0.9763004 ],\n",
              "       [0.9768778 ],\n",
              "       [1.0023987 ],\n",
              "       [1.0147842 ],\n",
              "       [1.0286212 ],\n",
              "       [1.0233865 ],\n",
              "       [0.9894528 ],\n",
              "       [0.959215  ]], dtype=float32)"
            ]
          },
          "metadata": {
            "tags": []
          },
          "execution_count": 29
        }
      ]
    },
    {
      "metadata": {
        "id": "YYQXtKKxLqDj",
        "colab_type": "code",
        "colab": {}
      },
      "cell_type": "code",
      "source": [
        "predicted_stock_price=sc.inverse_transform(predicted_stock_price)"
      ],
      "execution_count": 0,
      "outputs": []
    },
    {
      "metadata": {
        "id": "APJ-RausME_U",
        "colab_type": "code",
        "outputId": "77f2351e-e14a-4583-aab6-007efc7de89f",
        "colab": {
          "base_uri": "https://localhost:8080/",
          "height": 357
        }
      },
      "cell_type": "code",
      "source": [
        "predicted_stock_price"
      ],
      "execution_count": 0,
      "outputs": [
        {
          "output_type": "execute_result",
          "data": {
            "text/plain": [
              "array([[778.2138 ],\n",
              "       [786.9732 ],\n",
              "       [784.88354],\n",
              "       [793.2917 ],\n",
              "       [803.47437],\n",
              "       [804.8073 ],\n",
              "       [802.1959 ],\n",
              "       [804.14996],\n",
              "       [804.46045],\n",
              "       [804.0952 ],\n",
              "       [802.9356 ],\n",
              "       [802.3056 ],\n",
              "       [803.94006],\n",
              "       [804.2504 ],\n",
              "       [817.9694 ],\n",
              "       [824.6274 ],\n",
              "       [832.0656 ],\n",
              "       [829.2516 ],\n",
              "       [811.01025],\n",
              "       [794.7556 ]], dtype=float32)"
            ]
          },
          "metadata": {
            "tags": []
          },
          "execution_count": 31
        }
      ]
    },
    {
      "metadata": {
        "id": "qB_HodI2MH01",
        "colab_type": "code",
        "outputId": "9e946cc6-27f8-4372-a0ae-c5cfce41cde5",
        "colab": {
          "base_uri": "https://localhost:8080/",
          "height": 376
        }
      },
      "cell_type": "code",
      "source": [
        "plt.plot(real_stock_price,color='red',label='real google stock price')\n",
        "plt.plot(predicted_stock_price,color='blue',label='predicted google stock price')\n",
        "plt.title('google stock price prediction')\n",
        "plt.xlabel('Time')\n",
        "plt.ylabel('Stock Price')\n",
        "plt.legend()\n",
        "plt.show()"
      ],
      "execution_count": 0,
      "outputs": [
        {
          "output_type": "display_data",
          "data": {
            "image/png": "[encoded data removed]",
            "text/plain": [
              "<matplotlib.figure.Figure at 0x7ff840547da0>"
            ]
          },
          "metadata": {
            "tags": []
          }
        }
      ]
    },
    {
      "metadata": {
        "id": "vCDegsZjNIrx",
        "colab_type": "code",
        "colab": {}
      },
      "cell_type": "code",
      "source": [
        ""
      ],
      "execution_count": 0,
      "outputs": []
    }
  ]
}